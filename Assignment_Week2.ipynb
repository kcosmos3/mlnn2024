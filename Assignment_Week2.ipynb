{
 "cells": [
  {
   "cell_type": "code",
   "execution_count": 14,
   "metadata": {},
   "outputs": [],
   "source": [
    "import numpy as np\n",
    "import pandas as pd\n",
    "import scipy as sp"
   ]
  },
  {
   "cell_type": "code",
   "execution_count": 15,
   "metadata": {},
   "outputs": [],
   "source": [
    "%matplotlib inline\n",
    "import matplotlib.pyplot as plt\n",
    "plt.style.use('ggplot')"
   ]
  },
  {
   "cell_type": "code",
   "execution_count": 4,
   "metadata": {},
   "outputs": [
    {
     "name": "stdout",
     "output_type": "stream",
     "text": [
      "Overwriting hw_data.csv\n"
     ]
    }
   ],
   "source": [
    "%%file hw_data.csv\n",
    "id,sex,weight,height\n",
    "1,M,190,77\n",
    "2,F,120,70\n",
    "3,F,110,68\n",
    "4,M,150,72\n",
    "5,O,120,66\n",
    "6,M,120,60\n",
    "7,F,140,70"
   ]
  },
  {
   "cell_type": "markdown",
   "metadata": {},
   "source": [
    "# Python"
   ]
  },
  {
   "cell_type": "markdown",
   "metadata": {},
   "source": [
    "## 1. Finish creating the following function that takes a list and returns the average value.\n",
    "\n",
    "Add each element in the list to `total` and return `total`\n",
    "\n",
    "### DO NOT use a library function nor `sum()`"
   ]
  },
  {
   "cell_type": "code",
   "execution_count": 27,
   "metadata": {
    "scrolled": true
   },
   "outputs": [
    {
     "data": {
      "text/plain": [
       "3.375"
      ]
     },
     "execution_count": 27,
     "metadata": {},
     "output_type": "execute_result"
    }
   ],
   "source": [
    "def average(my_list):\n",
    "    total = 0\n",
    "    n=0\n",
    "    for item in my_list:\n",
    "        list = []\n",
    "        list.insert(0, item)\n",
    "        total = total + list[0]\n",
    "        n = n + 1\n",
    "    return total / n\n",
    "\n",
    "average([1,2,1,4,3,2,5,9])"
   ]
  },
  {
   "cell_type": "markdown",
   "metadata": {},
   "source": [
    "## 2. Using a Dictionary keep track of the count of numbers (or items) from a list"
   ]
  },
  {
   "cell_type": "code",
   "execution_count": 87,
   "metadata": {},
   "outputs": [
    {
     "data": {
      "text/plain": [
       "{1: 2, 2: 2, 4: 1, 3: 1, 5: 1, 9: 1}"
      ]
     },
     "execution_count": 87,
     "metadata": {},
     "output_type": "execute_result"
    }
   ],
   "source": [
    "def counts(my_list):\n",
    "    counts = dict()\n",
    "    \n",
    "    for item in my_list:\n",
    "        counts[item] = counts.get(item, 0) + 1\n",
    "        \n",
    "    return counts\n",
    "\n",
    "counts([1,2,1,4,3,2,5,9])    "
   ]
  },
  {
   "cell_type": "code",
   "execution_count": 92,
   "metadata": {},
   "outputs": [],
   "source": [
    "#def counts(my_list):\n",
    "#    counts = dict()\n",
    "#    i = 0\n",
    "#    for item in my_list:\n",
    "#        i = i + 1\n",
    "#        counts[item] = i\n",
    "        \n",
    "#    return counts\n",
    "\n",
    "#counts([1,2,1,4,3,2,5,9])"
   ]
  },
  {
   "cell_type": "code",
   "execution_count": 93,
   "metadata": {},
   "outputs": [],
   "source": [
    "# def counts(my_list):\n",
    "#    counts = dict()\n",
    "#    i = 0\n",
    "#    for item in my_list:\n",
    "#        i = i + 1\n",
    "#        counts[i] = item\n",
    "#        \n",
    "#    return i\n",
    "\n",
    "# counts([1,2,1,4,3,2,5,9])"
   ]
  },
  {
   "cell_type": "markdown",
   "metadata": {},
   "source": [
    "## 3.  Using the `counts()` function you created above and the `.split()` function, return a dictionary of most occuring words from the following paragraph. Bonus, remove punctuation from words."
   ]
  },
  {
   "cell_type": "code",
   "execution_count": 99,
   "metadata": {},
   "outputs": [
    {
     "name": "stdout",
     "output_type": "stream",
     "text": [
      " For a minute or two she stood looking at the house and wondering what to do next when suddenly a footman in livery came running out of the wood she considered him to be a footman because he was in livery otherwise judging by his face only she would have called him a fish and rapped loudly at the door with his knuckles It was opened by another footman in livery with a round face and large eyes like a frog and both footmen Alice noticed had powdered hair that curled all over their heads She felt very curious to know what it was all about and crept a little way out of the wood to listen The Fish Footman began by producing from under his arm a great letter nearly as large as himself and this he handed over to the other saying in a solemn tone For the Duchess An invitation from the Queen to play croquet The Frog Footman repeated in the same solemn tone only changing the order of the words a little From the Queen An invitation for the Duchess to play croquet Then they both bowed low and their curls got entangled together Alice laughed so much at this that she had to run back into the wood for fear of their hearing her and when she next peeped out the Fish Footman was gone and the other was sitting on the ground near the door staring stupidly up into the sky Alice went timidly up to the door and knocked There s no sort of use in knocking said the Footman and that for two reasons First because I m on the same side of the door as you are secondly because they re making such a noise inside no one could possibly hear you And certainly there was a most extraordinary noise going on within a constant howling and sneezing and every now and then a great crash as if a dish or kettle had been broken to pieces Please then said Alice how am I to get in There might be some sense in your knocking the Footman went on without attending to her if we had the door between us For instance if you were inside you might knock and I could let you out you know He was looking up into the sky all the time he was speaking and this Alice thought decidedly uncivil But perhaps he can t help it she said to herself his eyes are so very nearly at the top of his head But at any rate he might answer questions How am I to get in she repeated aloud I shall sit here the Footman remarked till tomorrow At this moment the door of the house opened and a large plate came skimming out straight at the Footman s head it just grazed his nose and broke to pieces against one of the trees behind him \n",
      "[('the', 32), ('and', 18), ('a', 16), ('to', 15), ('in', 9), ('of', 9), ('was', 8), ('she', 7), ('Footman', 7), ('at', 6), ('his', 6), ('door', 6), ('you', 6), ('out', 5), ('he', 5), ('Alice', 5), ('I', 5), ('had', 4), ('as', 4), ('this', 4), ('on', 4), ('For', 3), ('footman', 3), ('livery', 3), ('wood', 3), ('him', 3), ('because', 3), ('by', 3), ('large', 3), ('that', 3), ('all', 3), ('their', 3), ('it', 3), ('for', 3), ('into', 3), ('up', 3), ('said', 3), ('if', 3), ('might', 3), ('or', 2), ('two', 2), ('looking', 2), ('house', 2), ('what', 2), ('next', 2), ('when', 2), ('came', 2), ('be', 2), ('face', 2), ('only', 2), ('with', 2), ('opened', 2), ('eyes', 2), ('both', 2), ('over', 2), ('very', 2), ('know', 2), ('little', 2), ('The', 2), ('Fish', 2), ('from', 2), ('great', 2), ('nearly', 2), ('other', 2), ('solemn', 2), ('tone', 2), ('Duchess', 2), ('An', 2), ('invitation', 2), ('Queen', 2), ('play', 2), ('croquet', 2), ('repeated', 2), ('same', 2), ('they', 2), ('so', 2), ('her', 2), ('sky', 2), ('went', 2), ('There', 2), ('s', 2), ('no', 2), ('knocking', 2), ('are', 2), ('noise', 2), ('inside', 2), ('one', 2), ('could', 2), ('then', 2), ('pieces', 2), ('am', 2), ('get', 2), ('But', 2), ('head', 2), ('minute', 1), ('stood', 1), ('wondering', 1), ('do', 1), ('suddenly', 1), ('running', 1), ('considered', 1), ('otherwise', 1), ('judging', 1), ('would', 1), ('have', 1), ('called', 1), ('fish', 1), ('rapped', 1), ('loudly', 1), ('knuckles', 1), ('It', 1), ('another', 1), ('round', 1), ('like', 1), ('frog', 1), ('footmen', 1), ('noticed', 1), ('powdered', 1), ('hair', 1), ('curled', 1), ('heads', 1), ('She', 1), ('felt', 1), ('curious', 1), ('about', 1), ('crept', 1), ('way', 1), ('listen', 1), ('began', 1), ('producing', 1), ('under', 1), ('arm', 1), ('letter', 1), ('himself', 1), ('handed', 1), ('saying', 1), ('Frog', 1), ('changing', 1), ('order', 1), ('words', 1), ('From', 1), ('Then', 1), ('bowed', 1), ('low', 1), ('curls', 1), ('got', 1), ('entangled', 1), ('together', 1), ('laughed', 1), ('much', 1), ('run', 1), ('back', 1), ('fear', 1), ('hearing', 1), ('peeped', 1), ('gone', 1), ('sitting', 1), ('ground', 1), ('near', 1), ('staring', 1), ('stupidly', 1), ('timidly', 1), ('knocked', 1), ('sort', 1), ('use', 1), ('reasons', 1), ('First', 1), ('m', 1), ('side', 1), ('secondly', 1), ('re', 1), ('making', 1), ('such', 1), ('possibly', 1), ('hear', 1), ('And', 1), ('certainly', 1), ('there', 1), ('most', 1), ('extraordinary', 1), ('going', 1), ('within', 1), ('constant', 1), ('howling', 1), ('sneezing', 1), ('every', 1), ('now', 1), ('crash', 1), ('dish', 1), ('kettle', 1), ('been', 1), ('broken', 1), ('Please', 1), ('how', 1), ('some', 1), ('sense', 1), ('your', 1), ('without', 1), ('attending', 1), ('we', 1), ('between', 1), ('us', 1), ('instance', 1), ('were', 1), ('knock', 1), ('let', 1), ('He', 1), ('time', 1), ('speaking', 1), ('thought', 1), ('decidedly', 1), ('uncivil', 1), ('perhaps', 1), ('can', 1), ('t', 1), ('help', 1), ('herself', 1), ('top', 1), ('any', 1), ('rate', 1), ('answer', 1), ('questions', 1), ('How', 1), ('aloud', 1), ('shall', 1), ('sit', 1), ('here', 1), ('remarked', 1), ('till', 1), ('tomorrow', 1), ('At', 1), ('moment', 1), ('plate', 1), ('skimming', 1), ('straight', 1), ('just', 1), ('grazed', 1), ('nose', 1), ('broke', 1), ('against', 1), ('trees', 1), ('behind', 1)]\n"
     ]
    }
   ],
   "source": [
    "paragraph_text = '''\n",
    "For a minute or two she stood looking at the house, and wondering what to do next, when suddenly a footman in livery came running out of the wood—(she considered him to be a footman because he was in livery: otherwise, judging by his face only, she would have called him a fish)—and rapped loudly at the door with his knuckles. It was opened by another footman in livery, with a round face, and large eyes like a frog; and both footmen, Alice noticed, had powdered hair that curled all over their heads. She felt very curious to know what it was all about, and crept a little way out of the wood to listen.\n",
    "The Fish-Footman began by producing from under his arm a great letter, nearly as large as himself, and this he handed over to the other, saying, in a solemn tone, ‘For the Duchess. An invitation from the Queen to play croquet.’ The Frog-Footman repeated, in the same solemn tone, only changing the order of the words a little, ‘From the Queen. An invitation for the Duchess to play croquet.’\n",
    "Then they both bowed low, and their curls got entangled together.\n",
    "Alice laughed so much at this, that she had to run back into the wood for fear of their hearing her; and when she next peeped out the Fish-Footman was gone, and the other was sitting on the ground near the door, staring stupidly up into the sky.\n",
    "Alice went timidly up to the door, and knocked.\n",
    "‘There’s no sort of use in knocking,’ said the Footman, ‘and that for two reasons. First, because I’m on the same side of the door as you are; secondly, because they’re making such a noise inside, no one could possibly hear you.’ And certainly there was a most extraordinary noise going on within—a constant howling and sneezing, and every now and then a great crash, as if a dish or kettle had been broken to pieces.\n",
    "‘Please, then,’ said Alice, ‘how am I to get in?’\n",
    "‘There might be some sense in your knocking,’ the Footman went on without attending to her, ‘if we had the door between us. For instance, if you were inside, you might knock, and I could let you out, you know.’ He was looking up into the sky all the time he was speaking, and this Alice thought decidedly uncivil. ‘But perhaps he can’t help it,’ she said to herself; ‘his eyes are so very nearly at the top of his head. But at any rate he might answer questions.—How am I to get in?’ she repeated, aloud.\n",
    "‘I shall sit here,’ the Footman remarked, ‘till tomorrow—’\n",
    "At this moment the door of the house opened, and a large plate came skimming out, straight at the Footman’s head: it just grazed his nose, and broke to pieces against one of the trees behind him.'''\n",
    "\n",
    "import re\n",
    "paragraph_text_words = re.sub('[^A-Za-z0-9]+',' ', paragraph_text)\n",
    "l = paragraph_text_words.split()\n",
    "c = counts(l)\n",
    "a = sorted(c.items(), key=lambda x: x[1], reverse=True)\n",
    "print(paragraph_text_words)\n",
    "print(a)"
   ]
  },
  {
   "cell_type": "code",
   "execution_count": null,
   "metadata": {
    "scrolled": true
   },
   "outputs": [],
   "source": []
  },
  {
   "cell_type": "markdown",
   "metadata": {},
   "source": [
    "## 4. Read in a file using `open()` and iterated through the file line-by-line write each line from the file to a new file in a  `title()`-ized. Create your own file for input\n",
    "\n",
    "`This is the first line` ->  `This Is The First Line`\n",
    "\n",
    "Hint: There's a function to do this"
   ]
  },
  {
   "cell_type": "code",
   "execution_count": 133,
   "metadata": {},
   "outputs": [
    {
     "name": "stdout",
     "output_type": "stream",
     "text": [
      "Dataset: Merchandise: Total trade and share, annual\n",
      "Dataset: Merchandise: Total Trade And Share, Annual\n"
     ]
    }
   ],
   "source": [
    "f = open(\"sample.txt\").read()\n",
    "print(f)\n",
    "print(f.title())"
   ]
  },
  {
   "cell_type": "markdown",
   "metadata": {},
   "source": [
    "# Numpy"
   ]
  },
  {
   "cell_type": "markdown",
   "metadata": {},
   "source": [
    "## 1. Given a list, find the average using a numpy function. "
   ]
  },
  {
   "cell_type": "code",
   "execution_count": 3,
   "metadata": {},
   "outputs": [
    {
     "data": {
      "text/plain": [
       "3.375"
      ]
     },
     "execution_count": 3,
     "metadata": {},
     "output_type": "execute_result"
    }
   ],
   "source": [
    "simple_list = [1,2,1,4,3,2,5,9]\n",
    "np.average(simple_list)\n"
   ]
  },
  {
   "cell_type": "markdown",
   "metadata": {},
   "source": [
    "## 2. Given two lists of Heights and Weights of individual, calculate the BMI of those individuals, without writing a `for-loop`"
   ]
  },
  {
   "cell_type": "code",
   "execution_count": 19,
   "metadata": {},
   "outputs": [
    {
     "name": "stdout",
     "output_type": "stream",
     "text": [
      "[[29.06592681 27.73229978 30.73941662 24.16326531 26.33288875]]\n",
      "[29.06592681 27.73229978 30.73941662 24.16326531 26.33288875]\n"
     ]
    }
   ],
   "source": [
    "heights = [174, 173, 173, 175, 171]\n",
    "weights = [88, 83, 92, 74, 77]\n",
    "\n",
    "# calcuating sqaure value of heights in meter\n",
    "h = np.diag(heights)\n",
    "h2 = h/100\n",
    "h3 = h2 * h2\n",
    "\n",
    "#divide weight by height square\n",
    "w = np.diag(weights)\n",
    "h4 = np.linalg.inv(h3)\n",
    "bmi = w * h4\n",
    "\n",
    "#visualize into single array(method 1)\n",
    "v = np.array([1,1,1,1,1])\n",
    "v2 = np.matrix(v).T\n",
    "bmi2 = bmi * v2\n",
    "bmi3 = np.matrix(bmi2).T\n",
    "\n",
    "#visualize into single array(method 2)\n",
    "bmi4 = np.diag(bmi)\n",
    "\n",
    "print(bmi3)\n",
    "print(bmi4)"
   ]
  },
  {
   "cell_type": "markdown",
   "metadata": {},
   "source": [
    "## 3. Create an array of length 20 filled with random values (between 0 to 1) "
   ]
  },
  {
   "cell_type": "code",
   "execution_count": 30,
   "metadata": {},
   "outputs": [
    {
     "data": {
      "text/plain": [
       "array([[0.84081859, 0.4502015 , 0.13675981, 0.21894476, 0.73140862,\n",
       "        0.23006563, 0.2737263 , 0.65953064, 0.92202216, 0.31638275,\n",
       "        0.8748939 , 0.6304252 , 0.2531376 , 0.92685947, 0.9596506 ,\n",
       "        0.13043344, 0.72562503, 0.96382104, 0.73920885, 0.40895591]])"
      ]
     },
     "execution_count": 30,
     "metadata": {},
     "output_type": "execute_result"
    }
   ],
   "source": [
    "np.random.rand(1,20)"
   ]
  },
  {
   "cell_type": "markdown",
   "metadata": {},
   "source": [
    "## 4. Create an array with at least 1000 random numbers from normal distributions (normal). Then, plot a histogram of these values (`plt.hist`)."
   ]
  },
  {
   "cell_type": "code",
   "execution_count": 46,
   "metadata": {},
   "outputs": [
    {
     "data": {
      "text/plain": [
       "(array([  1.,   2.,   3.,   4.,  14.,  21.,  39.,  72., 130., 185., 248.,\n",
       "        285., 392., 397., 471., 476., 463., 457., 380., 299., 246., 161.,\n",
       "        102.,  79.,  38.,  23.,   6.,   2.,   1.,   3.]),\n",
       " array([-3.8028733 , -3.5553859 , -3.30789851, -3.06041112, -2.81292373,\n",
       "        -2.56543633, -2.31794894, -2.07046155, -1.82297416, -1.57548676,\n",
       "        -1.32799937, -1.08051198, -0.83302459, -0.58553719, -0.3380498 ,\n",
       "        -0.09056241,  0.15692498,  0.40441238,  0.65189977,  0.89938716,\n",
       "         1.14687455,  1.39436195,  1.64184934,  1.88933673,  2.13682412,\n",
       "         2.38431151,  2.63179891,  2.8792863 ,  3.12677369,  3.37426108,\n",
       "         3.62174848]),\n",
       " <BarContainer object of 30 artists>)"
      ]
     },
     "execution_count": 46,
     "metadata": {},
     "output_type": "execute_result"
    },
    {
     "data": {
      "image/png": "[encoded data removed]",
      "text/plain": [
       "<Figure size 640x480 with 1 Axes>"
      ]
     },
     "metadata": {},
     "output_type": "display_data"
    }
   ],
   "source": [
    "a = np.random.normal(size = 5000)\n",
    "\n",
    "plt.hist(a, bins = 30)"
   ]
  },
  {
   "cell_type": "markdown",
   "metadata": {},
   "source": [
    "# Pandas"
   ]
  },
  {
   "cell_type": "markdown",
   "metadata": {},
   "source": [
    "## 1. Read in a CSV () and display all the columns and their respective data types "
   ]
  },
  {
   "cell_type": "code",
   "execution_count": 52,
   "metadata": {},
   "outputs": [],
   "source": [
    "df = pd.read_csv('hw_data.csv')"
   ]
  },
  {
   "cell_type": "code",
   "execution_count": 84,
   "metadata": {},
   "outputs": [
    {
     "data": {
      "text/html": [
       "<div>\n",
       "<style scoped>\n",
       "    .dataframe tbody tr th:only-of-type {\n",
       "        vertical-align: middle;\n",
       "    }\n",
       "\n",
       "    .dataframe tbody tr th {\n",
       "        vertical-align: top;\n",
       "    }\n",
       "\n",
       "    .dataframe thead th {\n",
       "        text-align: right;\n",
       "    }\n",
       "</style>\n",
       "<table border=\"1\" class=\"dataframe\">\n",
       "  <thead>\n",
       "    <tr style=\"text-align: right;\">\n",
       "      <th></th>\n",
       "      <th>id</th>\n",
       "      <th>sex</th>\n",
       "      <th>weight</th>\n",
       "      <th>height</th>\n",
       "    </tr>\n",
       "  </thead>\n",
       "  <tbody>\n",
       "    <tr>\n",
       "      <th>0</th>\n",
       "      <td>1</td>\n",
       "      <td>M</td>\n",
       "      <td>190</td>\n",
       "      <td>77</td>\n",
       "    </tr>\n",
       "    <tr>\n",
       "      <th>1</th>\n",
       "      <td>2</td>\n",
       "      <td>F</td>\n",
       "      <td>120</td>\n",
       "      <td>70</td>\n",
       "    </tr>\n",
       "    <tr>\n",
       "      <th>2</th>\n",
       "      <td>3</td>\n",
       "      <td>F</td>\n",
       "      <td>110</td>\n",
       "      <td>68</td>\n",
       "    </tr>\n",
       "    <tr>\n",
       "      <th>3</th>\n",
       "      <td>4</td>\n",
       "      <td>M</td>\n",
       "      <td>150</td>\n",
       "      <td>72</td>\n",
       "    </tr>\n",
       "    <tr>\n",
       "      <th>4</th>\n",
       "      <td>5</td>\n",
       "      <td>O</td>\n",
       "      <td>120</td>\n",
       "      <td>66</td>\n",
       "    </tr>\n",
       "    <tr>\n",
       "      <th>5</th>\n",
       "      <td>6</td>\n",
       "      <td>M</td>\n",
       "      <td>120</td>\n",
       "      <td>60</td>\n",
       "    </tr>\n",
       "    <tr>\n",
       "      <th>6</th>\n",
       "      <td>7</td>\n",
       "      <td>F</td>\n",
       "      <td>140</td>\n",
       "      <td>70</td>\n",
       "    </tr>\n",
       "  </tbody>\n",
       "</table>\n",
       "</div>"
      ],
      "text/plain": [
       "   id sex  weight  height\n",
       "0   1   M     190      77\n",
       "1   2   F     120      70\n",
       "2   3   F     110      68\n",
       "3   4   M     150      72\n",
       "4   5   O     120      66\n",
       "5   6   M     120      60\n",
       "6   7   F     140      70"
      ]
     },
     "execution_count": 84,
     "metadata": {},
     "output_type": "execute_result"
    }
   ],
   "source": [
    "df"
   ]
  },
  {
   "cell_type": "code",
   "execution_count": 83,
   "metadata": {},
   "outputs": [
    {
     "data": {
      "text/plain": [
       "id         int64\n",
       "sex       object\n",
       "weight     int64\n",
       "height     int64\n",
       "dtype: object"
      ]
     },
     "execution_count": 83,
     "metadata": {},
     "output_type": "execute_result"
    }
   ],
   "source": [
    "df.dtypes"
   ]
  },
  {
   "cell_type": "markdown",
   "metadata": {},
   "source": [
    "## 2. Find the average weight "
   ]
  },
  {
   "cell_type": "code",
   "execution_count": 73,
   "metadata": {},
   "outputs": [
    {
     "data": {
      "text/html": [
       "<div>\n",
       "<style scoped>\n",
       "    .dataframe tbody tr th:only-of-type {\n",
       "        vertical-align: middle;\n",
       "    }\n",
       "\n",
       "    .dataframe tbody tr th {\n",
       "        vertical-align: top;\n",
       "    }\n",
       "\n",
       "    .dataframe thead th {\n",
       "        text-align: right;\n",
       "    }\n",
       "</style>\n",
       "<table border=\"1\" class=\"dataframe\">\n",
       "  <thead>\n",
       "    <tr style=\"text-align: right;\">\n",
       "      <th></th>\n",
       "      <th>id</th>\n",
       "      <th>weight</th>\n",
       "      <th>height</th>\n",
       "    </tr>\n",
       "  </thead>\n",
       "  <tbody>\n",
       "    <tr>\n",
       "      <th>count</th>\n",
       "      <td>7.000000</td>\n",
       "      <td>7.000000</td>\n",
       "      <td>7.000000</td>\n",
       "    </tr>\n",
       "    <tr>\n",
       "      <th>mean</th>\n",
       "      <td>4.000000</td>\n",
       "      <td>135.714286</td>\n",
       "      <td>69.000000</td>\n",
       "    </tr>\n",
       "    <tr>\n",
       "      <th>std</th>\n",
       "      <td>2.160247</td>\n",
       "      <td>27.602622</td>\n",
       "      <td>5.259911</td>\n",
       "    </tr>\n",
       "    <tr>\n",
       "      <th>min</th>\n",
       "      <td>1.000000</td>\n",
       "      <td>110.000000</td>\n",
       "      <td>60.000000</td>\n",
       "    </tr>\n",
       "    <tr>\n",
       "      <th>25%</th>\n",
       "      <td>2.500000</td>\n",
       "      <td>120.000000</td>\n",
       "      <td>67.000000</td>\n",
       "    </tr>\n",
       "    <tr>\n",
       "      <th>50%</th>\n",
       "      <td>4.000000</td>\n",
       "      <td>120.000000</td>\n",
       "      <td>70.000000</td>\n",
       "    </tr>\n",
       "    <tr>\n",
       "      <th>75%</th>\n",
       "      <td>5.500000</td>\n",
       "      <td>145.000000</td>\n",
       "      <td>71.000000</td>\n",
       "    </tr>\n",
       "    <tr>\n",
       "      <th>max</th>\n",
       "      <td>7.000000</td>\n",
       "      <td>190.000000</td>\n",
       "      <td>77.000000</td>\n",
       "    </tr>\n",
       "  </tbody>\n",
       "</table>\n",
       "</div>"
      ],
      "text/plain": [
       "             id      weight     height\n",
       "count  7.000000    7.000000   7.000000\n",
       "mean   4.000000  135.714286  69.000000\n",
       "std    2.160247   27.602622   5.259911\n",
       "min    1.000000  110.000000  60.000000\n",
       "25%    2.500000  120.000000  67.000000\n",
       "50%    4.000000  120.000000  70.000000\n",
       "75%    5.500000  145.000000  71.000000\n",
       "max    7.000000  190.000000  77.000000"
      ]
     },
     "execution_count": 73,
     "metadata": {},
     "output_type": "execute_result"
    }
   ],
   "source": [
    "df.describe()"
   ]
  },
  {
   "cell_type": "markdown",
   "metadata": {},
   "source": [
    "## 3. Find the Value Counts on column `sex` "
   ]
  },
  {
   "cell_type": "code",
   "execution_count": 87,
   "metadata": {},
   "outputs": [
    {
     "data": {
      "text/plain": [
       "sex\n",
       "F    3\n",
       "M    3\n",
       "O    1\n",
       "Name: count, dtype: int64"
      ]
     },
     "execution_count": 87,
     "metadata": {},
     "output_type": "execute_result"
    }
   ],
   "source": [
    "df.value_counts('sex')"
   ]
  },
  {
   "cell_type": "markdown",
   "metadata": {},
   "source": [
    "## 4. Plot Height vs. Weight "
   ]
  },
  {
   "cell_type": "code",
   "execution_count": 100,
   "metadata": {},
   "outputs": [
    {
     "data": {
      "text/plain": [
       "<Axes: xlabel='height', ylabel='weight'>"
      ]
     },
     "execution_count": 100,
     "metadata": {},
     "output_type": "execute_result"
    },
    {
     "data": {
      "image/png": "[encoded data removed]",
      "text/plain": [
       "<Figure size 640x480 with 1 Axes>"
      ]
     },
     "metadata": {},
     "output_type": "display_data"
    }
   ],
   "source": [
    "df.plot(x = 'height', y = 'weight', kind='scatter')"
   ]
  },
  {
   "cell_type": "code",
   "execution_count": null,
   "metadata": {},
   "outputs": [],
   "source": []
  },
  {
   "cell_type": "markdown",
   "metadata": {},
   "source": [
    "## 5. Calculate BMI and save as a new column"
   ]
  },
  {
   "cell_type": "code",
   "execution_count": 106,
   "metadata": {},
   "outputs": [
    {
     "data": {
      "text/html": [
       "<div>\n",
       "<style scoped>\n",
       "    .dataframe tbody tr th:only-of-type {\n",
       "        vertical-align: middle;\n",
       "    }\n",
       "\n",
       "    .dataframe tbody tr th {\n",
       "        vertical-align: top;\n",
       "    }\n",
       "\n",
       "    .dataframe thead th {\n",
       "        text-align: right;\n",
       "    }\n",
       "</style>\n",
       "<table border=\"1\" class=\"dataframe\">\n",
       "  <thead>\n",
       "    <tr style=\"text-align: right;\">\n",
       "      <th></th>\n",
       "      <th>id</th>\n",
       "      <th>sex</th>\n",
       "      <th>weight</th>\n",
       "      <th>height</th>\n",
       "      <th>BMI</th>\n",
       "    </tr>\n",
       "  </thead>\n",
       "  <tbody>\n",
       "    <tr>\n",
       "      <th>0</th>\n",
       "      <td>1</td>\n",
       "      <td>M</td>\n",
       "      <td>190</td>\n",
       "      <td>77</td>\n",
       "      <td>27.504166</td>\n",
       "    </tr>\n",
       "    <tr>\n",
       "      <th>1</th>\n",
       "      <td>2</td>\n",
       "      <td>F</td>\n",
       "      <td>120</td>\n",
       "      <td>70</td>\n",
       "      <td>18.831062</td>\n",
       "    </tr>\n",
       "    <tr>\n",
       "      <th>2</th>\n",
       "      <td>3</td>\n",
       "      <td>F</td>\n",
       "      <td>110</td>\n",
       "      <td>68</td>\n",
       "      <td>17.675248</td>\n",
       "    </tr>\n",
       "    <tr>\n",
       "      <th>3</th>\n",
       "      <td>4</td>\n",
       "      <td>M</td>\n",
       "      <td>150</td>\n",
       "      <td>72</td>\n",
       "      <td>22.994595</td>\n",
       "    </tr>\n",
       "    <tr>\n",
       "      <th>4</th>\n",
       "      <td>5</td>\n",
       "      <td>O</td>\n",
       "      <td>120</td>\n",
       "      <td>66</td>\n",
       "      <td>19.749517</td>\n",
       "    </tr>\n",
       "    <tr>\n",
       "      <th>5</th>\n",
       "      <td>6</td>\n",
       "      <td>M</td>\n",
       "      <td>120</td>\n",
       "      <td>60</td>\n",
       "      <td>21.258503</td>\n",
       "    </tr>\n",
       "    <tr>\n",
       "      <th>6</th>\n",
       "      <td>7</td>\n",
       "      <td>F</td>\n",
       "      <td>140</td>\n",
       "      <td>70</td>\n",
       "      <td>21.969572</td>\n",
       "    </tr>\n",
       "  </tbody>\n",
       "</table>\n",
       "</div>"
      ],
      "text/plain": [
       "   id sex  weight  height        BMI\n",
       "0   1   M     190      77  27.504166\n",
       "1   2   F     120      70  18.831062\n",
       "2   3   F     110      68  17.675248\n",
       "3   4   M     150      72  22.994595\n",
       "4   5   O     120      66  19.749517\n",
       "5   6   M     120      60  21.258503\n",
       "6   7   F     140      70  21.969572"
      ]
     },
     "execution_count": 106,
     "metadata": {},
     "output_type": "execute_result"
    }
   ],
   "source": [
    "#assumption : weights are in pounds and heights are in centimeter (ex. height 77 would refer to 177cm)\n",
    "df['BMI']=(df['weight']/2.205)/(((df['height']+100)/100)**2)\n",
    "df"
   ]
  },
  {
   "cell_type": "markdown",
   "metadata": {},
   "source": [
    "## 6. Save sheet as a new CSV file `hw_dataB.csv`"
   ]
  },
  {
   "cell_type": "code",
   "execution_count": 108,
   "metadata": {},
   "outputs": [],
   "source": [
    "df.to_csv('hw_dataB.csv')"
   ]
  },
  {
   "cell_type": "markdown",
   "metadata": {},
   "source": [
    "## Run the following (Mac)"
   ]
  },
  {
   "cell_type": "code",
   "execution_count": null,
   "metadata": {},
   "outputs": [],
   "source": [
    "!cat hw_dataB.csv"
   ]
  },
  {
   "cell_type": "markdown",
   "metadata": {},
   "source": [
    "## Run the following (Windows) "
   ]
  },
  {
   "cell_type": "code",
   "execution_count": 109,
   "metadata": {},
   "outputs": [
    {
     "name": "stdout",
     "output_type": "stream",
     "text": [
      ",id,sex,weight,height,BMI\n",
      "0,1,M,190,77,27.504165614451377\n",
      "1,2,F,120,70,18.831061836499305\n",
      "2,3,F,110,68,17.67524848185684\n",
      "3,4,M,150,72,22.994595350308863\n",
      "4,5,O,120,66,19.749516877443387\n",
      "5,6,M,120,60,21.25850340136054\n",
      "6,7,F,140,70,21.969572142582525\n"
     ]
    }
   ],
   "source": [
    "!type hw_dataB.csv"
   ]
  }
 ],
 "metadata": {
  "kernelspec": {
   "display_name": "Python 3 (ipykernel)",
   "language": "python",
   "name": "python3"
  },
  "language_info": {
   "codemirror_mode": {
    "name": "ipython",
    "version": 3
   },
   "file_extension": ".py",
   "mimetype": "text/x-python",
   "name": "python",
   "nbconvert_exporter": "python",
   "pygments_lexer": "ipython3",
   "version": "3.11.5"
  }
 },
 "nbformat": 4,
 "nbformat_minor": 1
}
