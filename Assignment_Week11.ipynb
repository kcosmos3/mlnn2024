{
 "cells": [
  {
   "cell_type": "markdown",
   "metadata": {},
   "source": [
    "# Neural Networks image recognition - ConvNet\n",
    "\n",
    "1. Add random noise (see below on `size parameter` on [`np.random.normal`](https://numpy.org/doc/stable/reference/random/generated/numpy.random.normal.html)) to the images in training and testing. **Make sure each image gets a different noise feature added to it. Inspect by printing out several images. Note - the `size` parameter should match the data. **\n",
    "2. Compare the `accuracy` of train and val after N epochs for MLNN with and without noise. \n",
    "3. Vary the amount of noise by changing the `scale` parameter in `np.random.normal` by a factor. Use `.1, .5, 1.0, 2.0, 4.0` for the `scale` and keep track of the `accuracy` for training and validation and plot these results.\n",
    "4. Compare these results with the previous week where we used a MultiLayer Perceptron (this week we use a ConvNet). "
   ]
  },
  {
   "cell_type": "markdown",
   "metadata": {},
   "source": [
    "# Neural Networks - Image Recognition "
   ]
  },
  {
   "cell_type": "code",
   "execution_count": 1,
   "metadata": {},
   "outputs": [
    {
     "name": "stdout",
     "output_type": "stream",
     "text": [
      "WARNING:tensorflow:From C:\\Users\\kcosm\\anaconda3\\Lib\\site-packages\\keras\\src\\losses.py:2976: The name tf.losses.sparse_softmax_cross_entropy is deprecated. Please use tf.compat.v1.losses.sparse_softmax_cross_entropy instead.\n",
      "\n"
     ]
    }
   ],
   "source": [
    "import keras\n",
    "from keras.datasets import mnist\n",
    "from keras.models import Sequential\n",
    "from keras.optimizers import RMSprop\n",
    "from keras.layers import Dense, Dropout, Flatten\n",
    "from keras.layers import Conv2D, MaxPooling2D\n",
    "from keras import backend\n",
    "\n",
    "\n",
    "import numpy as np\n",
    "import matplotlib.pyplot as plt\n",
    "%matplotlib inline"
   ]
  },
  {
   "cell_type": "markdown",
   "metadata": {},
   "source": [
    "## Conv Net\n",
    "Trains a simple convnet on the MNIST dataset.\n",
    "Gets to 99.25% test accuracy after 12 epochs\n",
    "(there is still a lot of margin for parameter tuning).\n"
   ]
  },
  {
   "cell_type": "code",
   "execution_count": 2,
   "metadata": {
    "scrolled": true
   },
   "outputs": [
    {
     "name": "stdout",
     "output_type": "stream",
     "text": [
      "x_train shape: (60000, 28, 28, 1)\n",
      "60000 train samples\n",
      "10000 test samples\n"
     ]
    }
   ],
   "source": [
    "# input image dimensions\n",
    "img_rows, img_cols = 28, 28\n",
    "\n",
    "# the data, shuffled and split between train and test sets\n",
    "(x_train, y_train), (x_test, y_test) = mnist.load_data()\n",
    "\n",
    "if backend.image_data_format() == 'channels_first':\n",
    "    x_train = x_train.reshape(x_train.shape[0], 1, img_rows, img_cols)\n",
    "    x_test = x_test.reshape(x_test.shape[0], 1, img_rows, img_cols)\n",
    "    input_shape = (1, img_rows, img_cols)\n",
    "else:\n",
    "    x_train = x_train.reshape(x_train.shape[0], img_rows, img_cols, 1)\n",
    "    x_test = x_test.reshape(x_test.shape[0], img_rows, img_cols, 1)\n",
    "    input_shape = (img_rows, img_cols, 1)\n",
    "\n",
    "x_train = x_train.astype('float32')\n",
    "x_test = x_test.astype('float32')\n",
    "x_train /= 255\n",
    "x_test /= 255\n",
    "print('x_train shape:', x_train.shape)\n",
    "print(x_train.shape[0], 'train samples')\n",
    "print(x_test.shape[0], 'test samples')"
   ]
  },
  {
   "cell_type": "markdown",
   "metadata": {},
   "source": [
    "## 1. Add noise"
   ]
  },
  {
   "cell_type": "code",
   "execution_count": 3,
   "metadata": {},
   "outputs": [],
   "source": [
    "# Noise is added here\n",
    "# The max value of the noise should not grossly surpass 1.0\n",
    "noise_train = np.random.normal(0.5, 0.05, (60000, 28, 28, 1))\n",
    "noise_test = np.random.normal(0.5, 0.05, (10000, 28, 28, 1))\n",
    "x_train2 = x_train + noise_train\n",
    "x_test2 = x_test + noise_test"
   ]
  },
  {
   "cell_type": "code",
   "execution_count": 4,
   "metadata": {},
   "outputs": [
    {
     "name": "stdout",
     "output_type": "stream",
     "text": [
      "0.7937039777445263\n",
      "0.22592893773982398\n",
      "0.790001239714075\n",
      "0.23102239788898254\n"
     ]
    }
   ],
   "source": [
    "#check the minimun and maximum value of the noise\n",
    "\n",
    "print(np.max(noise_train))\n",
    "print(np.min(noise_train))\n",
    "print(np.max(noise_test))\n",
    "print(np.min(noise_test))"
   ]
  },
  {
   "cell_type": "markdown",
   "metadata": {},
   "source": [
    "## 2. Compare Accuracy"
   ]
  },
  {
   "cell_type": "markdown",
   "metadata": {},
   "source": [
    "### 2-A. Accuracy without noise = 83.89%"
   ]
  },
  {
   "cell_type": "code",
   "execution_count": 5,
   "metadata": {},
   "outputs": [
    {
     "name": "stdout",
     "output_type": "stream",
     "text": [
      "WARNING:tensorflow:From C:\\Users\\kcosm\\anaconda3\\Lib\\site-packages\\keras\\src\\backend.py:873: The name tf.get_default_graph is deprecated. Please use tf.compat.v1.get_default_graph instead.\n",
      "\n",
      "WARNING:tensorflow:From C:\\Users\\kcosm\\anaconda3\\Lib\\site-packages\\keras\\src\\layers\\pooling\\max_pooling2d.py:161: The name tf.nn.max_pool is deprecated. Please use tf.nn.max_pool2d instead.\n",
      "\n",
      "Epoch 1/12\n",
      "WARNING:tensorflow:From C:\\Users\\kcosm\\anaconda3\\Lib\\site-packages\\keras\\src\\utils\\tf_utils.py:492: The name tf.ragged.RaggedTensorValue is deprecated. Please use tf.compat.v1.ragged.RaggedTensorValue instead.\n",
      "\n",
      "WARNING:tensorflow:From C:\\Users\\kcosm\\anaconda3\\Lib\\site-packages\\keras\\src\\engine\\base_layer_utils.py:384: The name tf.executing_eagerly_outside_functions is deprecated. Please use tf.compat.v1.executing_eagerly_outside_functions instead.\n",
      "\n",
      "469/469 [==============================] - 67s 137ms/step - loss: 2.2815 - accuracy: 0.1424 - val_loss: 2.2540 - val_accuracy: 0.2601\n",
      "Epoch 2/12\n",
      "469/469 [==============================] - 71s 150ms/step - loss: 2.2349 - accuracy: 0.2375 - val_loss: 2.1969 - val_accuracy: 0.4094\n",
      "Epoch 3/12\n",
      "469/469 [==============================] - 64s 136ms/step - loss: 2.1766 - accuracy: 0.3216 - val_loss: 2.1215 - val_accuracy: 0.5204\n",
      "Epoch 4/12\n",
      "469/469 [==============================] - 63s 134ms/step - loss: 2.0958 - accuracy: 0.4020 - val_loss: 2.0188 - val_accuracy: 0.6073\n",
      "Epoch 5/12\n",
      "469/469 [==============================] - 68s 144ms/step - loss: 1.9894 - accuracy: 0.4690 - val_loss: 1.8816 - val_accuracy: 0.6847\n",
      "Epoch 6/12\n",
      "469/469 [==============================] - 65s 139ms/step - loss: 1.8534 - accuracy: 0.5320 - val_loss: 1.7092 - val_accuracy: 0.7397\n",
      "Epoch 7/12\n",
      "469/469 [==============================] - 58s 123ms/step - loss: 1.6922 - accuracy: 0.5810 - val_loss: 1.5123 - val_accuracy: 0.7718\n",
      "Epoch 8/12\n",
      "469/469 [==============================] - 59s 127ms/step - loss: 1.5241 - accuracy: 0.6144 - val_loss: 1.3116 - val_accuracy: 0.7962\n",
      "Epoch 9/12\n",
      "469/469 [==============================] - 68s 145ms/step - loss: 1.3667 - accuracy: 0.6445 - val_loss: 1.1293 - val_accuracy: 0.8099\n",
      "Epoch 10/12\n",
      "469/469 [==============================] - 60s 127ms/step - loss: 1.2290 - accuracy: 0.6694 - val_loss: 0.9780 - val_accuracy: 0.8234\n",
      "Epoch 11/12\n",
      "469/469 [==============================] - 63s 135ms/step - loss: 1.1168 - accuracy: 0.6922 - val_loss: 0.8607 - val_accuracy: 0.8319\n",
      "Epoch 12/12\n",
      "469/469 [==============================] - 58s 124ms/step - loss: 1.0278 - accuracy: 0.7056 - val_loss: 0.7708 - val_accuracy: 0.8389\n",
      "Test loss: 0.7707778215408325\n",
      "Test accuracy: 0.8389000296592712\n"
     ]
    }
   ],
   "source": [
    "batch_size = 128\n",
    "num_classes = 10\n",
    "epochs = 12\n",
    "\n",
    "# convert class vectors to binary class matrices\n",
    "y_train = keras.utils.to_categorical(y_train, num_classes)\n",
    "y_test = keras.utils.to_categorical(y_test, num_classes)\n",
    "\n",
    "model = Sequential()\n",
    "model.add(Conv2D(32, kernel_size=(3, 3),\n",
    "                 activation='relu',\n",
    "                 input_shape=input_shape))\n",
    "model.add(Conv2D(64, (3, 3), activation='relu'))\n",
    "model.add(MaxPooling2D(pool_size=(2, 2)))\n",
    "model.add(Dropout(0.25))\n",
    "model.add(Flatten())\n",
    "model.add(Dense(128, activation='relu'))\n",
    "model.add(Dropout(0.5))\n",
    "model.add(Dense(num_classes, activation='softmax'))\n",
    "\n",
    "model.compile(loss=keras.losses.categorical_crossentropy,\n",
    "              optimizer=keras.optimizers.Adadelta(),\n",
    "              metrics=['accuracy'])\n",
    "\n",
    "model.fit(x_train, y_train,\n",
    "          batch_size=batch_size,\n",
    "          epochs=epochs,\n",
    "          verbose=1,\n",
    "          validation_data=(x_test, y_test))\n",
    "score = model.evaluate(x_test, y_test, verbose=0)\n",
    "\n",
    "print('Test loss:', score[0])\n",
    "print('Test accuracy:', score[1])"
   ]
  },
  {
   "cell_type": "markdown",
   "metadata": {},
   "source": [
    "### 2-B. Accuracy with noise = 87.22%"
   ]
  },
  {
   "cell_type": "code",
   "execution_count": 6,
   "metadata": {},
   "outputs": [
    {
     "name": "stdout",
     "output_type": "stream",
     "text": [
      "Epoch 1/12\n",
      "469/469 [==============================] - 62s 131ms/step - loss: 1.2414 - accuracy: 0.5860 - val_loss: 0.7409 - val_accuracy: 0.8406\n",
      "Epoch 2/12\n",
      "469/469 [==============================] - 58s 125ms/step - loss: 1.0687 - accuracy: 0.6628 - val_loss: 0.7181 - val_accuracy: 0.8469\n",
      "Epoch 3/12\n",
      "469/469 [==============================] - 58s 125ms/step - loss: 1.0200 - accuracy: 0.6833 - val_loss: 0.6873 - val_accuracy: 0.8491\n",
      "Epoch 4/12\n",
      "469/469 [==============================] - 57s 121ms/step - loss: 0.9890 - accuracy: 0.6926 - val_loss: 0.6576 - val_accuracy: 0.8518\n",
      "Epoch 5/12\n",
      "469/469 [==============================] - 58s 125ms/step - loss: 0.9613 - accuracy: 0.7024 - val_loss: 0.6308 - val_accuracy: 0.8561\n",
      "Epoch 6/12\n",
      "469/469 [==============================] - 56s 119ms/step - loss: 0.9321 - accuracy: 0.7112 - val_loss: 0.6063 - val_accuracy: 0.8580\n",
      "Epoch 7/12\n",
      "469/469 [==============================] - 58s 123ms/step - loss: 0.9051 - accuracy: 0.7191 - val_loss: 0.5850 - val_accuracy: 0.8608\n",
      "Epoch 8/12\n",
      "469/469 [==============================] - 58s 124ms/step - loss: 0.8856 - accuracy: 0.7260 - val_loss: 0.5658 - val_accuracy: 0.8641\n",
      "Epoch 9/12\n",
      "469/469 [==============================] - 59s 125ms/step - loss: 0.8629 - accuracy: 0.7293 - val_loss: 0.5488 - val_accuracy: 0.8674\n",
      "Epoch 10/12\n",
      "469/469 [==============================] - 57s 122ms/step - loss: 0.8396 - accuracy: 0.7377 - val_loss: 0.5330 - val_accuracy: 0.8686\n",
      "Epoch 11/12\n",
      "469/469 [==============================] - 64s 137ms/step - loss: 0.8250 - accuracy: 0.7397 - val_loss: 0.5189 - val_accuracy: 0.8709\n",
      "Epoch 12/12\n",
      "469/469 [==============================] - 73s 155ms/step - loss: 0.8081 - accuracy: 0.7473 - val_loss: 0.5058 - val_accuracy: 0.8722\n",
      "Test loss: 0.50580894947052\n",
      "Test accuracy: 0.8722000122070312\n"
     ]
    }
   ],
   "source": [
    "model.fit(x_train2, y_train,\n",
    "          batch_size=batch_size,\n",
    "          epochs=epochs,\n",
    "          verbose=1,\n",
    "          validation_data=(x_test2, y_test))\n",
    "score = model.evaluate(x_test2, y_test, verbose=0)\n",
    "print('Test loss:', score[0])\n",
    "print('Test accuracy:', score[1])"
   ]
  },
  {
   "cell_type": "markdown",
   "metadata": {},
   "source": [
    "### Result: Accuracy increased by 3.33%p due to the noise (Why??)"
   ]
  },
  {
   "cell_type": "markdown",
   "metadata": {},
   "source": [
    "## 3. Vary noises"
   ]
  },
  {
   "cell_type": "code",
   "execution_count": 7,
   "metadata": {},
   "outputs": [
    {
     "name": "stdout",
     "output_type": "stream",
     "text": [
      "Epoch 1/12\n",
      "469/469 [==============================] - 74s 155ms/step - loss: 0.8023 - accuracy: 0.7506 - val_loss: 0.4999 - val_accuracy: 0.8735\n",
      "Epoch 2/12\n",
      "469/469 [==============================] - 71s 151ms/step - loss: 0.7900 - accuracy: 0.7533 - val_loss: 0.4887 - val_accuracy: 0.8748\n",
      "Epoch 3/12\n",
      "469/469 [==============================] - 65s 138ms/step - loss: 0.7760 - accuracy: 0.7554 - val_loss: 0.4787 - val_accuracy: 0.8762\n",
      "Epoch 4/12\n",
      "469/469 [==============================] - 67s 142ms/step - loss: 0.7639 - accuracy: 0.7599 - val_loss: 0.4700 - val_accuracy: 0.8784\n",
      "Epoch 5/12\n",
      "469/469 [==============================] - 65s 138ms/step - loss: 0.7511 - accuracy: 0.7640 - val_loss: 0.4606 - val_accuracy: 0.8806\n",
      "Epoch 6/12\n",
      "469/469 [==============================] - 66s 142ms/step - loss: 0.7371 - accuracy: 0.7700 - val_loss: 0.4520 - val_accuracy: 0.8807\n",
      "Epoch 7/12\n",
      "469/469 [==============================] - 66s 140ms/step - loss: 0.7262 - accuracy: 0.7734 - val_loss: 0.4439 - val_accuracy: 0.8815\n",
      "Epoch 8/12\n",
      "469/469 [==============================] - 66s 141ms/step - loss: 0.7150 - accuracy: 0.7763 - val_loss: 0.4376 - val_accuracy: 0.8823\n",
      "Epoch 9/12\n",
      "469/469 [==============================] - 66s 140ms/step - loss: 0.7074 - accuracy: 0.7771 - val_loss: 0.4315 - val_accuracy: 0.8840\n",
      "Epoch 10/12\n",
      "469/469 [==============================] - 66s 140ms/step - loss: 0.6981 - accuracy: 0.7821 - val_loss: 0.4251 - val_accuracy: 0.8850\n",
      "Epoch 11/12\n",
      "469/469 [==============================] - 66s 141ms/step - loss: 0.6902 - accuracy: 0.7812 - val_loss: 0.4204 - val_accuracy: 0.8858\n",
      "Epoch 12/12\n",
      "469/469 [==============================] - 67s 142ms/step - loss: 0.6793 - accuracy: 0.7862 - val_loss: 0.4142 - val_accuracy: 0.8865\n",
      "Epoch 1/12\n",
      "469/469 [==============================] - 75s 158ms/step - loss: 0.8465 - accuracy: 0.7260 - val_loss: 0.5413 - val_accuracy: 0.8442\n",
      "Epoch 2/12\n",
      "469/469 [==============================] - 68s 146ms/step - loss: 0.8366 - accuracy: 0.7283 - val_loss: 0.5387 - val_accuracy: 0.8438\n",
      "Epoch 3/12\n",
      "469/469 [==============================] - 68s 145ms/step - loss: 0.8325 - accuracy: 0.7316 - val_loss: 0.5364 - val_accuracy: 0.8438\n",
      "Epoch 4/12\n",
      "469/469 [==============================] - 68s 145ms/step - loss: 0.8308 - accuracy: 0.7316 - val_loss: 0.5332 - val_accuracy: 0.8448\n",
      "Epoch 5/12\n",
      "469/469 [==============================] - 66s 142ms/step - loss: 0.8190 - accuracy: 0.7361 - val_loss: 0.5291 - val_accuracy: 0.8454\n",
      "Epoch 6/12\n",
      "469/469 [==============================] - 73s 156ms/step - loss: 0.8072 - accuracy: 0.7390 - val_loss: 0.5240 - val_accuracy: 0.8472\n",
      "Epoch 7/12\n",
      "469/469 [==============================] - 67s 143ms/step - loss: 0.8071 - accuracy: 0.7383 - val_loss: 0.5210 - val_accuracy: 0.8479\n",
      "Epoch 8/12\n",
      "469/469 [==============================] - 68s 146ms/step - loss: 0.8063 - accuracy: 0.7416 - val_loss: 0.5187 - val_accuracy: 0.8486\n",
      "Epoch 9/12\n",
      "469/469 [==============================] - 68s 144ms/step - loss: 0.8012 - accuracy: 0.7416 - val_loss: 0.5158 - val_accuracy: 0.8490\n",
      "Epoch 10/12\n",
      "469/469 [==============================] - 68s 145ms/step - loss: 0.7926 - accuracy: 0.7442 - val_loss: 0.5138 - val_accuracy: 0.8495\n",
      "Epoch 11/12\n",
      "469/469 [==============================] - 69s 148ms/step - loss: 0.7913 - accuracy: 0.7465 - val_loss: 0.5105 - val_accuracy: 0.8501\n",
      "Epoch 12/12\n",
      "469/469 [==============================] - 67s 142ms/step - loss: 0.7815 - accuracy: 0.7490 - val_loss: 0.5071 - val_accuracy: 0.8526\n",
      "Epoch 1/12\n",
      "469/469 [==============================] - 76s 161ms/step - loss: 1.1708 - accuracy: 0.6137 - val_loss: 0.8573 - val_accuracy: 0.7250\n",
      "Epoch 2/12\n",
      "469/469 [==============================] - 73s 155ms/step - loss: 1.1593 - accuracy: 0.6122 - val_loss: 0.8629 - val_accuracy: 0.7236\n",
      "Epoch 3/12\n",
      "469/469 [==============================] - 73s 156ms/step - loss: 1.1501 - accuracy: 0.6172 - val_loss: 0.8623 - val_accuracy: 0.7262\n",
      "Epoch 4/12\n",
      "469/469 [==============================] - 71s 152ms/step - loss: 1.1553 - accuracy: 0.6156 - val_loss: 0.8598 - val_accuracy: 0.7277\n",
      "Epoch 5/12\n",
      "469/469 [==============================] - 70s 150ms/step - loss: 1.1449 - accuracy: 0.6163 - val_loss: 0.8560 - val_accuracy: 0.7291\n",
      "Epoch 6/12\n",
      "469/469 [==============================] - 72s 153ms/step - loss: 1.1465 - accuracy: 0.6168 - val_loss: 0.8554 - val_accuracy: 0.7283\n",
      "Epoch 7/12\n",
      "469/469 [==============================] - 70s 149ms/step - loss: 1.1419 - accuracy: 0.6188 - val_loss: 0.8550 - val_accuracy: 0.7288\n",
      "Epoch 8/12\n",
      "469/469 [==============================] - 71s 151ms/step - loss: 1.1337 - accuracy: 0.6232 - val_loss: 0.8509 - val_accuracy: 0.7278\n",
      "Epoch 9/12\n",
      "469/469 [==============================] - 72s 154ms/step - loss: 1.1313 - accuracy: 0.6221 - val_loss: 0.8487 - val_accuracy: 0.7288\n",
      "Epoch 10/12\n",
      "469/469 [==============================] - 73s 156ms/step - loss: 1.1251 - accuracy: 0.6244 - val_loss: 0.8462 - val_accuracy: 0.7295\n",
      "Epoch 11/12\n",
      "469/469 [==============================] - 77s 164ms/step - loss: 1.1225 - accuracy: 0.6255 - val_loss: 0.8444 - val_accuracy: 0.7299\n",
      "Epoch 12/12\n",
      "469/469 [==============================] - 73s 155ms/step - loss: 1.1165 - accuracy: 0.6286 - val_loss: 0.8411 - val_accuracy: 0.7312\n",
      "Epoch 1/12\n",
      "469/469 [==============================] - 75s 148ms/step - loss: 1.8616 - accuracy: 0.3892 - val_loss: 1.5972 - val_accuracy: 0.4643\n",
      "Epoch 2/12\n",
      "469/469 [==============================] - 73s 156ms/step - loss: 1.7951 - accuracy: 0.3807 - val_loss: 1.6242 - val_accuracy: 0.4608\n",
      "Epoch 3/12\n",
      "469/469 [==============================] - 68s 144ms/step - loss: 1.7910 - accuracy: 0.3816 - val_loss: 1.6225 - val_accuracy: 0.4639\n",
      "Epoch 4/12\n",
      "469/469 [==============================] - 70s 149ms/step - loss: 1.7834 - accuracy: 0.3857 - val_loss: 1.6175 - val_accuracy: 0.4648\n",
      "Epoch 5/12\n",
      "469/469 [==============================] - 69s 147ms/step - loss: 1.7833 - accuracy: 0.3839 - val_loss: 1.6132 - val_accuracy: 0.4680\n",
      "Epoch 6/12\n",
      "469/469 [==============================] - 68s 145ms/step - loss: 1.7811 - accuracy: 0.3882 - val_loss: 1.6132 - val_accuracy: 0.4679\n",
      "Epoch 7/12\n",
      "469/469 [==============================] - 71s 152ms/step - loss: 1.7796 - accuracy: 0.3868 - val_loss: 1.6120 - val_accuracy: 0.4676\n",
      "Epoch 8/12\n",
      "469/469 [==============================] - 70s 150ms/step - loss: 1.7732 - accuracy: 0.3913 - val_loss: 1.6042 - val_accuracy: 0.4701\n",
      "Epoch 9/12\n",
      "469/469 [==============================] - 67s 143ms/step - loss: 1.7731 - accuracy: 0.3894 - val_loss: 1.6044 - val_accuracy: 0.4691\n",
      "Epoch 10/12\n",
      "469/469 [==============================] - 65s 139ms/step - loss: 1.7710 - accuracy: 0.3887 - val_loss: 1.5991 - val_accuracy: 0.4692\n",
      "Epoch 11/12\n",
      "469/469 [==============================] - 67s 142ms/step - loss: 1.7729 - accuracy: 0.3922 - val_loss: 1.6003 - val_accuracy: 0.4719\n",
      "Epoch 12/12\n",
      "469/469 [==============================] - 67s 142ms/step - loss: 1.7681 - accuracy: 0.3885 - val_loss: 1.5987 - val_accuracy: 0.4730\n",
      "Epoch 1/12\n",
      "469/469 [==============================] - 72s 153ms/step - loss: 2.3196 - accuracy: 0.2137 - val_loss: 2.1555 - val_accuracy: 0.2372\n",
      "Epoch 2/12\n",
      "469/469 [==============================] - 72s 153ms/step - loss: 2.2160 - accuracy: 0.2040 - val_loss: 2.1767 - val_accuracy: 0.2302\n",
      "Epoch 3/12\n",
      "469/469 [==============================] - 69s 147ms/step - loss: 2.2091 - accuracy: 0.2040 - val_loss: 2.1792 - val_accuracy: 0.2276\n",
      "Epoch 4/12\n",
      "469/469 [==============================] - 71s 152ms/step - loss: 2.2084 - accuracy: 0.2011 - val_loss: 2.1794 - val_accuracy: 0.2293\n",
      "Epoch 5/12\n",
      "469/469 [==============================] - 70s 150ms/step - loss: 2.2066 - accuracy: 0.2016 - val_loss: 2.1780 - val_accuracy: 0.2296\n",
      "Epoch 6/12\n",
      "469/469 [==============================] - 70s 148ms/step - loss: 2.2096 - accuracy: 0.2002 - val_loss: 2.1787 - val_accuracy: 0.2298\n",
      "Epoch 7/12\n",
      "469/469 [==============================] - 70s 150ms/step - loss: 2.2042 - accuracy: 0.2006 - val_loss: 2.1760 - val_accuracy: 0.2307\n",
      "Epoch 8/12\n",
      "469/469 [==============================] - 69s 146ms/step - loss: 2.2057 - accuracy: 0.2035 - val_loss: 2.1762 - val_accuracy: 0.2321\n",
      "Epoch 9/12\n",
      "469/469 [==============================] - 73s 156ms/step - loss: 2.2041 - accuracy: 0.1996 - val_loss: 2.1725 - val_accuracy: 0.2333\n",
      "Epoch 10/12\n",
      "469/469 [==============================] - 70s 149ms/step - loss: 2.2042 - accuracy: 0.2012 - val_loss: 2.1733 - val_accuracy: 0.2336\n",
      "Epoch 11/12\n",
      "469/469 [==============================] - 70s 150ms/step - loss: 2.2046 - accuracy: 0.2004 - val_loss: 2.1740 - val_accuracy: 0.2325\n",
      "Epoch 12/12\n",
      "469/469 [==============================] - 72s 154ms/step - loss: 2.2039 - accuracy: 0.2012 - val_loss: 2.1728 - val_accuracy: 0.2337\n"
     ]
    }
   ],
   "source": [
    "accuracy_score = []\n",
    "noise_scale = [.1, .5, 1.0, 2.0, 4.0]\n",
    "\n",
    "#set for loop to see scores for each scale of noise\n",
    "for scale in noise_scale:\n",
    "    \n",
    "    noise_train = np.random.normal(0.5, scale, (60000, 28, 28, 1))\n",
    "    noise_test = np.random.normal(0.5, scale, (10000, 28, 28, 1))\n",
    "    x_train3 = x_train + noise_train\n",
    "    x_test3 = x_test + noise_test\n",
    "    \n",
    "    history3 = model.fit(x_train3, y_train,\n",
    "                    batch_size=batch_size,\n",
    "                    epochs=epochs,\n",
    "                    verbose=1,\n",
    "                    validation_data=(x_test3, y_test))\n",
    "    \n",
    "    score3 = model.evaluate(x_test3, y_test, verbose=0)\n",
    "    accuracy = score3[1]\n",
    "    accuracy_score.append(accuracy)"
   ]
  },
  {
   "cell_type": "code",
   "execution_count": 8,
   "metadata": {},
   "outputs": [
    {
     "name": "stdout",
     "output_type": "stream",
     "text": [
      "[0.8865000009536743, 0.8525999784469604, 0.7311999797821045, 0.4729999899864197, 0.2337000072002411]\n"
     ]
    }
   ],
   "source": [
    "print(accuracy_score)"
   ]
  },
  {
   "cell_type": "code",
   "execution_count": 9,
   "metadata": {},
   "outputs": [
    {
     "data": {
      "image/png": "[encoded data removed]",
      "text/plain": [
       "<Figure size 640x480 with 1 Axes>"
      ]
     },
     "metadata": {},
     "output_type": "display_data"
    }
   ],
   "source": [
    "plt.scatter(noise_scale, accuracy_score)\n",
    "plt.xlabel('Scale of Noise')\n",
    "plt.ylabel('Accuracy')\n",
    "plt.show()"
   ]
  },
  {
   "cell_type": "markdown",
   "metadata": {},
   "source": [
    "## Result: The accuracy significantly dropped as scale of noise increased"
   ]
  },
  {
   "cell_type": "markdown",
   "metadata": {},
   "source": [
    "## 4. Compare noises with the result of the previous week"
   ]
  },
  {
   "cell_type": "markdown",
   "metadata": {},
   "source": [
    "                Scale of Noise :  0.1                   0.5                  1.0                 2.0                  4.0\n",
    "- Accuracy Score Using Multilayer: [0.9778000116348267, 0.9319999814033508, 0.7793999910354614, 0.44780001044273376, 0.22589999437332153]\n",
    "- Accuracy Score Using ConvNet:    [0.8865000009536743, 0.8525999784469604, 0.7311999797821045, 0.4729999899864197, 0.2337000072002411]"
   ]
  },
  {
   "cell_type": "markdown",
   "metadata": {},
   "source": [
    "## Result: In lower noises(scale =< 1.0), the accuracy scores of Multilayer were higher; in high noises(scale >= 2.0), the accuracy scores of ConvNet were higher. "
   ]
  }
 ],
 "metadata": {
  "kernelspec": {
   "display_name": "Python 3 (ipykernel)",
   "language": "python",
   "name": "python3"
  },
  "language_info": {
   "codemirror_mode": {
    "name": "ipython",
    "version": 3
   },
   "file_extension": ".py",
   "mimetype": "text/x-python",
   "name": "python",
   "nbconvert_exporter": "python",
   "pygments_lexer": "ipython3",
   "version": "3.11.5"
  }
 },
 "nbformat": 4,
 "nbformat_minor": 2
}
