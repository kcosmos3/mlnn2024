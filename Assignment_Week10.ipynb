{
 "cells": [
  {
   "cell_type": "markdown",
   "metadata": {},
   "source": [
    "## Neural Networks image recognition - MultiLayer Perceptron\n",
    "Use both MLNN for the following problem.\n",
    "\n",
    "1. Add random noise (see below on `size parameter` on [`np.random.normal`](https://numpy.org/doc/stable/reference/random/generated/numpy.random.normal.html)) to the images in training and testing. **Make sure each image gets a different noise feature added to it. Inspect by printing out several images. Note - the `size` parameter should match the data. **\n",
    "2. Compare the `accuracy` of train and val after N epochs for MLNN with and without noise. \n",
    "3. Vary the amount of noise by changing the `scale` parameter in `np.random.normal` by a factor. Use `.1, .5, 1.0, 2.0, 4.0` for the `scale` and keep track of the `accuracy` for training and validation and plot these results."
   ]
  },
  {
   "cell_type": "markdown",
   "metadata": {},
   "source": [
    "# `np.random.normal`\n",
    "\n",
    "## Parameters\n",
    "\n",
    "### loc\n",
    "\n",
    "Mean (“centre”) of the distribution.\n",
    "\n",
    "### scale\n",
    "\n",
    "Standard deviation (spread or “width”) of the distribution. Must be non-negative.\n",
    "\n",
    "### size\n",
    "\n",
    "Output shape. If the given shape is, e.g., (m, n, k), then m * n * k samples are drawn. If size is None (default), a single value is returned if loc and scale are both scalars. Otherwise, np.broadcast(loc, scale).size samples are drawn."
   ]
  },
  {
   "cell_type": "markdown",
   "metadata": {},
   "source": [
    "# Neural Networks - Image Recognition "
   ]
  },
  {
   "cell_type": "code",
   "execution_count": 1,
   "metadata": {},
   "outputs": [
    {
     "name": "stdout",
     "output_type": "stream",
     "text": [
      "WARNING:tensorflow:From C:\\Users\\kcosm\\anaconda3\\Lib\\site-packages\\keras\\src\\losses.py:2976: The name tf.losses.sparse_softmax_cross_entropy is deprecated. Please use tf.compat.v1.losses.sparse_softmax_cross_entropy instead.\n",
      "\n"
     ]
    }
   ],
   "source": [
    "import keras\n",
    "from keras.datasets import mnist\n",
    "from keras.models import Sequential\n",
    "from keras.optimizers import RMSprop\n",
    "from keras.layers import Dense, Dropout, Flatten\n",
    "from keras.layers import Conv2D, MaxPooling2D\n",
    "from keras import backend\n",
    "\n",
    "import numpy as np\n",
    "import matplotlib.pyplot as plt\n",
    "%matplotlib inline"
   ]
  },
  {
   "cell_type": "markdown",
   "metadata": {},
   "source": [
    "## Multi Layer Neural Network\n",
    "Trains a simple deep NN on the MNIST dataset.\n",
    "Gets to 98.40% test accuracy after 20 epochs\n",
    "(there is *a lot* of margin for parameter tuning)."
   ]
  },
  {
   "cell_type": "code",
   "execution_count": 2,
   "metadata": {},
   "outputs": [
    {
     "name": "stdout",
     "output_type": "stream",
     "text": [
      "60000 train samples\n",
      "10000 test samples\n"
     ]
    }
   ],
   "source": [
    "# the data, shuffled and split between train and test sets\n",
    "(x_train, y_train), (x_test, y_test) = mnist.load_data()\n",
    "\n",
    "x_train = x_train.reshape(60000, 784)\n",
    "x_test = x_test.reshape(10000, 784)\n",
    "x_train = x_train.astype('float32')\n",
    "x_test = x_test.astype('float32')\n",
    "x_train /= 255\n",
    "x_test /= 255\n",
    "print(x_train.shape[0], 'train samples')\n",
    "print(x_test.shape[0], 'test samples')"
   ]
  },
  {
   "cell_type": "markdown",
   "metadata": {},
   "source": [
    "## 1. Add noise"
   ]
  },
  {
   "cell_type": "code",
   "execution_count": 3,
   "metadata": {},
   "outputs": [],
   "source": [
    "# Noise is added here\n",
    "# The max value of the noise should not grossly surpass 1.0\n",
    "noise_train = np.random.normal(0.5, 0.05, (60000, 784))\n",
    "noise_test = np.random.normal(0.5, 0.05, (10000, 784))\n",
    "x_train2 = x_train + noise_train\n",
    "x_test2 = x_test + noise_test"
   ]
  },
  {
   "cell_type": "code",
   "execution_count": 4,
   "metadata": {},
   "outputs": [
    {
     "name": "stdout",
     "output_type": "stream",
     "text": [
      "0.7830082232198076\n",
      "0.22467636179369982\n",
      "0.7592332878380708\n",
      "0.24213990810377145\n"
     ]
    }
   ],
   "source": [
    "print(np.max(noise_train))\n",
    "print(np.min(noise_train))\n",
    "print(np.max(noise_test))\n",
    "print(np.min(noise_test))"
   ]
  },
  {
   "cell_type": "markdown",
   "metadata": {},
   "source": [
    "## 2. Compare Accuracy"
   ]
  },
  {
   "cell_type": "markdown",
   "metadata": {},
   "source": [
    "### 2-A. Accuracy without noise = 98.23%"
   ]
  },
  {
   "cell_type": "code",
   "execution_count": 5,
   "metadata": {},
   "outputs": [
    {
     "name": "stdout",
     "output_type": "stream",
     "text": [
      "WARNING:tensorflow:From C:\\Users\\kcosm\\anaconda3\\Lib\\site-packages\\keras\\src\\backend.py:873: The name tf.get_default_graph is deprecated. Please use tf.compat.v1.get_default_graph instead.\n",
      "\n",
      "Model: \"sequential\"\n",
      "_________________________________________________________________\n",
      " Layer (type)                Output Shape              Param #   \n",
      "=================================================================\n",
      " dense (Dense)               (None, 512)               401920    \n",
      "                                                                 \n",
      " dropout (Dropout)           (None, 512)               0         \n",
      "                                                                 \n",
      " dense_1 (Dense)             (None, 512)               262656    \n",
      "                                                                 \n",
      " dropout_1 (Dropout)         (None, 512)               0         \n",
      "                                                                 \n",
      " dense_2 (Dense)             (None, 10)                5130      \n",
      "                                                                 \n",
      "=================================================================\n",
      "Total params: 669706 (2.55 MB)\n",
      "Trainable params: 669706 (2.55 MB)\n",
      "Non-trainable params: 0 (0.00 Byte)\n",
      "_________________________________________________________________\n",
      "WARNING:tensorflow:From C:\\Users\\kcosm\\anaconda3\\Lib\\site-packages\\keras\\src\\optimizers\\__init__.py:309: The name tf.train.Optimizer is deprecated. Please use tf.compat.v1.train.Optimizer instead.\n",
      "\n",
      "Epoch 1/20\n",
      "WARNING:tensorflow:From C:\\Users\\kcosm\\anaconda3\\Lib\\site-packages\\keras\\src\\utils\\tf_utils.py:492: The name tf.ragged.RaggedTensorValue is deprecated. Please use tf.compat.v1.ragged.RaggedTensorValue instead.\n",
      "\n",
      "WARNING:tensorflow:From C:\\Users\\kcosm\\anaconda3\\Lib\\site-packages\\keras\\src\\engine\\base_layer_utils.py:384: The name tf.executing_eagerly_outside_functions is deprecated. Please use tf.compat.v1.executing_eagerly_outside_functions instead.\n",
      "\n",
      "469/469 [==============================] - 15s 23ms/step - loss: 0.2491 - accuracy: 0.9246 - val_loss: 0.1049 - val_accuracy: 0.9674\n",
      "Epoch 2/20\n",
      "469/469 [==============================] - 11s 22ms/step - loss: 0.1024 - accuracy: 0.9689 - val_loss: 0.0836 - val_accuracy: 0.9725\n",
      "Epoch 3/20\n",
      "469/469 [==============================] - 10s 22ms/step - loss: 0.0725 - accuracy: 0.9774 - val_loss: 0.0749 - val_accuracy: 0.9771\n",
      "Epoch 4/20\n",
      "469/469 [==============================] - 11s 24ms/step - loss: 0.0567 - accuracy: 0.9822 - val_loss: 0.0689 - val_accuracy: 0.9784\n",
      "Epoch 5/20\n",
      "469/469 [==============================] - 11s 23ms/step - loss: 0.0440 - accuracy: 0.9852 - val_loss: 0.0661 - val_accuracy: 0.9806\n",
      "Epoch 6/20\n",
      "469/469 [==============================] - 11s 23ms/step - loss: 0.0375 - accuracy: 0.9879 - val_loss: 0.0673 - val_accuracy: 0.9811\n",
      "Epoch 7/20\n",
      "469/469 [==============================] - 11s 24ms/step - loss: 0.0350 - accuracy: 0.9885 - val_loss: 0.0817 - val_accuracy: 0.9781\n",
      "Epoch 8/20\n",
      "469/469 [==============================] - 11s 23ms/step - loss: 0.0291 - accuracy: 0.9902 - val_loss: 0.0677 - val_accuracy: 0.9820\n",
      "Epoch 9/20\n",
      "469/469 [==============================] - 10s 22ms/step - loss: 0.0298 - accuracy: 0.9900 - val_loss: 0.0737 - val_accuracy: 0.9802\n",
      "Epoch 10/20\n",
      "469/469 [==============================] - 10s 22ms/step - loss: 0.0258 - accuracy: 0.9910 - val_loss: 0.0688 - val_accuracy: 0.9836\n",
      "Epoch 11/20\n",
      "469/469 [==============================] - 10s 22ms/step - loss: 0.0246 - accuracy: 0.9917 - val_loss: 0.0747 - val_accuracy: 0.9821\n",
      "Epoch 12/20\n",
      "469/469 [==============================] - 10s 22ms/step - loss: 0.0224 - accuracy: 0.9925 - val_loss: 0.0671 - val_accuracy: 0.9839\n",
      "Epoch 13/20\n",
      "469/469 [==============================] - 10s 22ms/step - loss: 0.0191 - accuracy: 0.9938 - val_loss: 0.0788 - val_accuracy: 0.9818\n",
      "Epoch 14/20\n",
      "469/469 [==============================] - 11s 23ms/step - loss: 0.0199 - accuracy: 0.9932 - val_loss: 0.0698 - val_accuracy: 0.9833\n",
      "Epoch 15/20\n",
      "469/469 [==============================] - 11s 23ms/step - loss: 0.0174 - accuracy: 0.9943 - val_loss: 0.0808 - val_accuracy: 0.9822\n",
      "Epoch 16/20\n",
      "469/469 [==============================] - 10s 22ms/step - loss: 0.0189 - accuracy: 0.9938 - val_loss: 0.0719 - val_accuracy: 0.9835\n",
      "Epoch 17/20\n",
      "469/469 [==============================] - 11s 24ms/step - loss: 0.0157 - accuracy: 0.9946 - val_loss: 0.0877 - val_accuracy: 0.9825\n",
      "Epoch 18/20\n",
      "469/469 [==============================] - 10s 22ms/step - loss: 0.0154 - accuracy: 0.9949 - val_loss: 0.0815 - val_accuracy: 0.9825\n",
      "Epoch 19/20\n",
      "469/469 [==============================] - 10s 22ms/step - loss: 0.0174 - accuracy: 0.9941 - val_loss: 0.0828 - val_accuracy: 0.9836\n",
      "Epoch 20/20\n",
      "469/469 [==============================] - 10s 22ms/step - loss: 0.0140 - accuracy: 0.9954 - val_loss: 0.0900 - val_accuracy: 0.9823\n",
      "Test loss: 0.09002116322517395\n",
      "Test accuracy: 0.9822999835014343\n"
     ]
    }
   ],
   "source": [
    "batch_size = 128\n",
    "num_classes = 10\n",
    "epochs = 20\n",
    "\n",
    "# convert class vectors to binary class matrices\n",
    "y_train = keras.utils.to_categorical(y_train, num_classes)\n",
    "y_test = keras.utils.to_categorical(y_test, num_classes)\n",
    "\n",
    "model = Sequential()\n",
    "model.add(Dense(512, activation='relu', input_shape=(784,)))\n",
    "model.add(Dropout(0.2))\n",
    "model.add(Dense(512, activation='relu'))\n",
    "model.add(Dropout(0.2))\n",
    "model.add(Dense(10, activation='softmax'))\n",
    "\n",
    "model.summary()\n",
    "\n",
    "model.compile(loss='categorical_crossentropy',\n",
    "              optimizer=\"adam\",\n",
    "              metrics=['accuracy'])\n",
    "\n",
    "history = model.fit(x_train, y_train,\n",
    "                    batch_size=batch_size,\n",
    "                    epochs=epochs,\n",
    "                    verbose=1,\n",
    "                    validation_data=(x_test, y_test))\n",
    "score = model.evaluate(x_test, y_test, verbose=0)\n",
    "print('Test loss:', score[0])\n",
    "print('Test accuracy:', score[1])"
   ]
  },
  {
   "cell_type": "markdown",
   "metadata": {},
   "source": [
    "### 2-B. Accuracy with noise = 97.93%"
   ]
  },
  {
   "cell_type": "code",
   "execution_count": 6,
   "metadata": {},
   "outputs": [
    {
     "name": "stdout",
     "output_type": "stream",
     "text": [
      "Epoch 1/20\n",
      "469/469 [==============================] - 12s 24ms/step - loss: 0.2634 - accuracy: 0.9195 - val_loss: 0.1166 - val_accuracy: 0.9648\n",
      "Epoch 2/20\n",
      "469/469 [==============================] - 10s 22ms/step - loss: 0.1521 - accuracy: 0.9517 - val_loss: 0.1021 - val_accuracy: 0.9677\n",
      "Epoch 3/20\n",
      "469/469 [==============================] - 10s 21ms/step - loss: 0.1308 - accuracy: 0.9577 - val_loss: 0.0938 - val_accuracy: 0.9702\n",
      "Epoch 4/20\n",
      "469/469 [==============================] - 10s 22ms/step - loss: 0.1170 - accuracy: 0.9624 - val_loss: 0.0937 - val_accuracy: 0.9719\n",
      "Epoch 5/20\n",
      "469/469 [==============================] - 10s 22ms/step - loss: 0.1094 - accuracy: 0.9648 - val_loss: 0.0827 - val_accuracy: 0.9744\n",
      "Epoch 6/20\n",
      "469/469 [==============================] - 10s 21ms/step - loss: 0.1025 - accuracy: 0.9668 - val_loss: 0.0832 - val_accuracy: 0.9745\n",
      "Epoch 7/20\n",
      "469/469 [==============================] - 9s 18ms/step - loss: 0.0997 - accuracy: 0.9673 - val_loss: 0.0937 - val_accuracy: 0.9713\n",
      "Epoch 8/20\n",
      "469/469 [==============================] - 9s 20ms/step - loss: 0.0981 - accuracy: 0.9677 - val_loss: 0.0867 - val_accuracy: 0.9724\n",
      "Epoch 9/20\n",
      "469/469 [==============================] - 10s 21ms/step - loss: 0.0927 - accuracy: 0.9698 - val_loss: 0.0812 - val_accuracy: 0.9747\n",
      "Epoch 10/20\n",
      "469/469 [==============================] - 10s 21ms/step - loss: 0.0931 - accuracy: 0.9696 - val_loss: 0.0718 - val_accuracy: 0.9800\n",
      "Epoch 11/20\n",
      "469/469 [==============================] - 10s 20ms/step - loss: 0.0876 - accuracy: 0.9712 - val_loss: 0.0778 - val_accuracy: 0.9766\n",
      "Epoch 12/20\n",
      "469/469 [==============================] - 9s 20ms/step - loss: 0.0943 - accuracy: 0.9695 - val_loss: 0.0799 - val_accuracy: 0.9773\n",
      "Epoch 13/20\n",
      "469/469 [==============================] - 9s 20ms/step - loss: 0.0836 - accuracy: 0.9725 - val_loss: 0.0769 - val_accuracy: 0.9755\n",
      "Epoch 14/20\n",
      "469/469 [==============================] - 9s 20ms/step - loss: 0.0846 - accuracy: 0.9725 - val_loss: 0.0959 - val_accuracy: 0.9694\n",
      "Epoch 15/20\n",
      "469/469 [==============================] - 9s 20ms/step - loss: 0.0842 - accuracy: 0.9721 - val_loss: 0.0839 - val_accuracy: 0.9735\n",
      "Epoch 16/20\n",
      "469/469 [==============================] - 9s 20ms/step - loss: 0.0797 - accuracy: 0.9738 - val_loss: 0.0678 - val_accuracy: 0.9795\n",
      "Epoch 17/20\n",
      "469/469 [==============================] - 10s 20ms/step - loss: 0.0736 - accuracy: 0.9747 - val_loss: 0.0704 - val_accuracy: 0.9781\n",
      "Epoch 18/20\n",
      "469/469 [==============================] - 10s 20ms/step - loss: 0.0768 - accuracy: 0.9746 - val_loss: 0.0703 - val_accuracy: 0.9793\n",
      "Epoch 19/20\n",
      "469/469 [==============================] - 9s 20ms/step - loss: 0.0747 - accuracy: 0.9751 - val_loss: 0.0751 - val_accuracy: 0.9763\n",
      "Epoch 20/20\n",
      "469/469 [==============================] - 9s 19ms/step - loss: 0.0739 - accuracy: 0.9756 - val_loss: 0.0660 - val_accuracy: 0.9793\n",
      "Test loss: 0.06600886583328247\n",
      "Test accuracy: 0.9793000221252441\n"
     ]
    }
   ],
   "source": [
    "# With noise\n",
    "\n",
    "history2 = model.fit(x_train2, y_train,\n",
    "                    batch_size=batch_size,\n",
    "                    epochs=epochs,\n",
    "                    verbose=1,\n",
    "                    validation_data=(x_test2, y_test))\n",
    "score2 = model.evaluate(x_test2, y_test, verbose=0)\n",
    "print('Test loss:', score2[0])\n",
    "print('Test accuracy:', score2[1])"
   ]
  },
  {
   "cell_type": "markdown",
   "metadata": {},
   "source": [
    "### Result: Accuracy dropped by 0.30%p due to the noise"
   ]
  },
  {
   "cell_type": "markdown",
   "metadata": {},
   "source": [
    "## 3. Vary noises"
   ]
  },
  {
   "cell_type": "code",
   "execution_count": 7,
   "metadata": {},
   "outputs": [
    {
     "name": "stdout",
     "output_type": "stream",
     "text": [
      "Epoch 1/20\n",
      "469/469 [==============================] - 15s 31ms/step - loss: 0.0895 - accuracy: 0.9705 - val_loss: 0.0724 - val_accuracy: 0.9790\n",
      "Epoch 2/20\n",
      "469/469 [==============================] - 10s 21ms/step - loss: 0.0831 - accuracy: 0.9725 - val_loss: 0.0710 - val_accuracy: 0.9783\n",
      "Epoch 3/20\n",
      "469/469 [==============================] - 9s 20ms/step - loss: 0.0799 - accuracy: 0.9736 - val_loss: 0.0833 - val_accuracy: 0.9751\n",
      "Epoch 4/20\n",
      "469/469 [==============================] - 9s 20ms/step - loss: 0.0773 - accuracy: 0.9744 - val_loss: 0.0678 - val_accuracy: 0.9804\n",
      "Epoch 5/20\n",
      "469/469 [==============================] - 10s 20ms/step - loss: 0.0771 - accuracy: 0.9744 - val_loss: 0.0796 - val_accuracy: 0.9778\n",
      "Epoch 6/20\n",
      "469/469 [==============================] - 10s 21ms/step - loss: 0.0694 - accuracy: 0.9771 - val_loss: 0.0729 - val_accuracy: 0.9782\n",
      "Epoch 7/20\n",
      "469/469 [==============================] - 10s 21ms/step - loss: 0.0731 - accuracy: 0.9755 - val_loss: 0.0737 - val_accuracy: 0.9782\n",
      "Epoch 8/20\n",
      "469/469 [==============================] - 10s 22ms/step - loss: 0.0707 - accuracy: 0.9769 - val_loss: 0.0702 - val_accuracy: 0.9790\n",
      "Epoch 9/20\n",
      "469/469 [==============================] - 10s 22ms/step - loss: 0.0720 - accuracy: 0.9762 - val_loss: 0.0867 - val_accuracy: 0.9756\n",
      "Epoch 10/20\n",
      "469/469 [==============================] - 10s 21ms/step - loss: 0.0674 - accuracy: 0.9778 - val_loss: 0.0717 - val_accuracy: 0.9790\n",
      "Epoch 11/20\n",
      "469/469 [==============================] - 10s 21ms/step - loss: 0.0684 - accuracy: 0.9777 - val_loss: 0.0837 - val_accuracy: 0.9765\n",
      "Epoch 12/20\n",
      "469/469 [==============================] - 10s 21ms/step - loss: 0.0656 - accuracy: 0.9785 - val_loss: 0.0719 - val_accuracy: 0.9784\n",
      "Epoch 13/20\n",
      "469/469 [==============================] - 10s 21ms/step - loss: 0.0643 - accuracy: 0.9780 - val_loss: 0.0789 - val_accuracy: 0.9782\n",
      "Epoch 14/20\n",
      "469/469 [==============================] - 10s 21ms/step - loss: 0.0637 - accuracy: 0.9784 - val_loss: 0.0662 - val_accuracy: 0.9798\n",
      "Epoch 15/20\n",
      "469/469 [==============================] - 10s 21ms/step - loss: 0.0675 - accuracy: 0.9776 - val_loss: 0.0807 - val_accuracy: 0.9766\n",
      "Epoch 16/20\n",
      "469/469 [==============================] - 10s 22ms/step - loss: 0.0627 - accuracy: 0.9790 - val_loss: 0.0800 - val_accuracy: 0.9787\n",
      "Epoch 17/20\n",
      "469/469 [==============================] - 10s 22ms/step - loss: 0.0617 - accuracy: 0.9801 - val_loss: 0.0746 - val_accuracy: 0.9778\n",
      "Epoch 18/20\n",
      "469/469 [==============================] - 10s 21ms/step - loss: 0.0606 - accuracy: 0.9798 - val_loss: 0.0674 - val_accuracy: 0.9797\n",
      "Epoch 19/20\n",
      "469/469 [==============================] - 10s 22ms/step - loss: 0.0607 - accuracy: 0.9799 - val_loss: 0.0769 - val_accuracy: 0.9779\n",
      "Epoch 20/20\n",
      "469/469 [==============================] - 11s 23ms/step - loss: 0.0655 - accuracy: 0.9783 - val_loss: 0.0824 - val_accuracy: 0.9778\n",
      "Epoch 1/20\n",
      "469/469 [==============================] - 11s 22ms/step - loss: 0.4011 - accuracy: 0.8779 - val_loss: 0.2739 - val_accuracy: 0.9150\n",
      "Epoch 2/20\n",
      "469/469 [==============================] - 10s 21ms/step - loss: 0.2777 - accuracy: 0.9105 - val_loss: 0.2408 - val_accuracy: 0.9266\n",
      "Epoch 3/20\n",
      "469/469 [==============================] - 9s 20ms/step - loss: 0.2319 - accuracy: 0.9235 - val_loss: 0.2331 - val_accuracy: 0.9275\n",
      "Epoch 4/20\n",
      "469/469 [==============================] - 10s 21ms/step - loss: 0.2084 - accuracy: 0.9307 - val_loss: 0.2217 - val_accuracy: 0.9330\n",
      "Epoch 5/20\n",
      "469/469 [==============================] - 10s 20ms/step - loss: 0.1829 - accuracy: 0.9385 - val_loss: 0.2176 - val_accuracy: 0.9348\n",
      "Epoch 6/20\n",
      "469/469 [==============================] - 9s 20ms/step - loss: 0.1642 - accuracy: 0.9437 - val_loss: 0.2250 - val_accuracy: 0.9337\n",
      "Epoch 7/20\n",
      "469/469 [==============================] - 9s 20ms/step - loss: 0.1574 - accuracy: 0.9460 - val_loss: 0.2157 - val_accuracy: 0.9340\n",
      "Epoch 8/20\n",
      "469/469 [==============================] - 11s 23ms/step - loss: 0.1443 - accuracy: 0.9511 - val_loss: 0.2169 - val_accuracy: 0.9360\n",
      "Epoch 9/20\n",
      "469/469 [==============================] - 11s 22ms/step - loss: 0.1350 - accuracy: 0.9539 - val_loss: 0.2210 - val_accuracy: 0.9345\n",
      "Epoch 10/20\n",
      "469/469 [==============================] - 10s 22ms/step - loss: 0.1297 - accuracy: 0.9564 - val_loss: 0.2331 - val_accuracy: 0.9327\n",
      "Epoch 11/20\n",
      "469/469 [==============================] - 10s 21ms/step - loss: 0.1234 - accuracy: 0.9579 - val_loss: 0.2238 - val_accuracy: 0.9353\n",
      "Epoch 12/20\n",
      "469/469 [==============================] - 10s 21ms/step - loss: 0.1159 - accuracy: 0.9602 - val_loss: 0.2323 - val_accuracy: 0.9351\n",
      "Epoch 13/20\n",
      "469/469 [==============================] - 9s 20ms/step - loss: 0.1112 - accuracy: 0.9624 - val_loss: 0.2407 - val_accuracy: 0.9332\n",
      "Epoch 14/20\n",
      "469/469 [==============================] - 9s 20ms/step - loss: 0.1051 - accuracy: 0.9640 - val_loss: 0.2398 - val_accuracy: 0.9333\n",
      "Epoch 15/20\n",
      "469/469 [==============================] - 8s 18ms/step - loss: 0.1051 - accuracy: 0.9647 - val_loss: 0.2461 - val_accuracy: 0.9346\n",
      "Epoch 16/20\n",
      "469/469 [==============================] - 9s 20ms/step - loss: 0.0946 - accuracy: 0.9679 - val_loss: 0.2548 - val_accuracy: 0.9316\n",
      "Epoch 17/20\n",
      "469/469 [==============================] - 9s 19ms/step - loss: 0.0961 - accuracy: 0.9679 - val_loss: 0.2454 - val_accuracy: 0.9333\n",
      "Epoch 18/20\n",
      "469/469 [==============================] - 8s 18ms/step - loss: 0.0924 - accuracy: 0.9689 - val_loss: 0.2525 - val_accuracy: 0.9322\n",
      "Epoch 19/20\n",
      "469/469 [==============================] - 9s 18ms/step - loss: 0.0929 - accuracy: 0.9699 - val_loss: 0.2547 - val_accuracy: 0.9326\n",
      "Epoch 20/20\n",
      "469/469 [==============================] - 9s 19ms/step - loss: 0.0894 - accuracy: 0.9706 - val_loss: 0.2652 - val_accuracy: 0.9320\n",
      "Epoch 1/20\n",
      "469/469 [==============================] - 11s 22ms/step - loss: 0.9846 - accuracy: 0.6960 - val_loss: 0.7318 - val_accuracy: 0.7607\n",
      "Epoch 2/20\n",
      "469/469 [==============================] - 9s 19ms/step - loss: 0.7453 - accuracy: 0.7560 - val_loss: 0.6731 - val_accuracy: 0.7818\n",
      "Epoch 3/20\n",
      "469/469 [==============================] - 8s 18ms/step - loss: 0.6458 - accuracy: 0.7832 - val_loss: 0.6584 - val_accuracy: 0.7850\n",
      "Epoch 4/20\n",
      "469/469 [==============================] - 8s 18ms/step - loss: 0.5737 - accuracy: 0.8030 - val_loss: 0.6444 - val_accuracy: 0.7937\n",
      "Epoch 5/20\n",
      "469/469 [==============================] - 9s 19ms/step - loss: 0.5170 - accuracy: 0.8213 - val_loss: 0.6490 - val_accuracy: 0.7856\n",
      "Epoch 6/20\n",
      "469/469 [==============================] - 9s 19ms/step - loss: 0.4679 - accuracy: 0.8380 - val_loss: 0.6446 - val_accuracy: 0.7922\n",
      "Epoch 7/20\n",
      "469/469 [==============================] - 8s 17ms/step - loss: 0.4260 - accuracy: 0.8523 - val_loss: 0.6581 - val_accuracy: 0.7942\n",
      "Epoch 8/20\n",
      "469/469 [==============================] - 8s 18ms/step - loss: 0.3877 - accuracy: 0.8630 - val_loss: 0.6858 - val_accuracy: 0.7909\n",
      "Epoch 9/20\n",
      "469/469 [==============================] - 9s 18ms/step - loss: 0.3577 - accuracy: 0.8749 - val_loss: 0.6811 - val_accuracy: 0.7918\n",
      "Epoch 10/20\n",
      "469/469 [==============================] - 9s 19ms/step - loss: 0.3243 - accuracy: 0.8878 - val_loss: 0.7319 - val_accuracy: 0.7920\n",
      "Epoch 11/20\n",
      "469/469 [==============================] - 9s 20ms/step - loss: 0.2969 - accuracy: 0.8961 - val_loss: 0.7563 - val_accuracy: 0.7889\n",
      "Epoch 12/20\n",
      "469/469 [==============================] - 9s 19ms/step - loss: 0.2791 - accuracy: 0.9014 - val_loss: 0.7539 - val_accuracy: 0.7868\n",
      "Epoch 13/20\n",
      "469/469 [==============================] - 9s 19ms/step - loss: 0.2564 - accuracy: 0.9110 - val_loss: 0.8223 - val_accuracy: 0.7869\n",
      "Epoch 14/20\n",
      "469/469 [==============================] - 8s 17ms/step - loss: 0.2431 - accuracy: 0.9161 - val_loss: 0.8174 - val_accuracy: 0.7857\n",
      "Epoch 15/20\n",
      "469/469 [==============================] - 8s 18ms/step - loss: 0.2338 - accuracy: 0.9195 - val_loss: 0.8288 - val_accuracy: 0.7858\n",
      "Epoch 16/20\n",
      "469/469 [==============================] - 8s 18ms/step - loss: 0.2167 - accuracy: 0.9255 - val_loss: 0.8496 - val_accuracy: 0.7865\n",
      "Epoch 17/20\n",
      "469/469 [==============================] - 8s 18ms/step - loss: 0.2090 - accuracy: 0.9276 - val_loss: 0.8974 - val_accuracy: 0.7828\n"
     ]
    },
    {
     "name": "stdout",
     "output_type": "stream",
     "text": [
      "Epoch 18/20\n",
      "469/469 [==============================] - 8s 18ms/step - loss: 0.1985 - accuracy: 0.9319 - val_loss: 0.9381 - val_accuracy: 0.7816\n",
      "Epoch 19/20\n",
      "469/469 [==============================] - 8s 17ms/step - loss: 0.1887 - accuracy: 0.9361 - val_loss: 0.9372 - val_accuracy: 0.7787\n",
      "Epoch 20/20\n",
      "469/469 [==============================] - 9s 18ms/step - loss: 0.1811 - accuracy: 0.9387 - val_loss: 0.9556 - val_accuracy: 0.7794\n",
      "Epoch 1/20\n",
      "469/469 [==============================] - 10s 20ms/step - loss: 1.9382 - accuracy: 0.3638 - val_loss: 1.5751 - val_accuracy: 0.4667\n",
      "Epoch 2/20\n",
      "469/469 [==============================] - 9s 19ms/step - loss: 1.6225 - accuracy: 0.4441 - val_loss: 1.5169 - val_accuracy: 0.4921\n",
      "Epoch 3/20\n",
      "469/469 [==============================] - 9s 20ms/step - loss: 1.5166 - accuracy: 0.4791 - val_loss: 1.4904 - val_accuracy: 0.5000\n",
      "Epoch 4/20\n",
      "469/469 [==============================] - 10s 22ms/step - loss: 1.4156 - accuracy: 0.5105 - val_loss: 1.4955 - val_accuracy: 0.4989\n",
      "Epoch 5/20\n",
      "469/469 [==============================] - 10s 22ms/step - loss: 1.3091 - accuracy: 0.5440 - val_loss: 1.5176 - val_accuracy: 0.4985\n",
      "Epoch 6/20\n",
      "469/469 [==============================] - 10s 21ms/step - loss: 1.1986 - accuracy: 0.5783 - val_loss: 1.5405 - val_accuracy: 0.4911\n",
      "Epoch 7/20\n",
      "469/469 [==============================] - 9s 19ms/step - loss: 1.0895 - accuracy: 0.6132 - val_loss: 1.5910 - val_accuracy: 0.4857\n",
      "Epoch 8/20\n",
      "469/469 [==============================] - 9s 19ms/step - loss: 0.9793 - accuracy: 0.6518 - val_loss: 1.6789 - val_accuracy: 0.4785\n",
      "Epoch 9/20\n",
      "469/469 [==============================] - 9s 20ms/step - loss: 0.8842 - accuracy: 0.6844 - val_loss: 1.7418 - val_accuracy: 0.4717\n",
      "Epoch 10/20\n",
      "469/469 [==============================] - 10s 20ms/step - loss: 0.7961 - accuracy: 0.7171 - val_loss: 1.8418 - val_accuracy: 0.4634\n",
      "Epoch 11/20\n",
      "469/469 [==============================] - 9s 19ms/step - loss: 0.7236 - accuracy: 0.7425 - val_loss: 1.9585 - val_accuracy: 0.4637\n",
      "Epoch 12/20\n",
      "469/469 [==============================] - 9s 20ms/step - loss: 0.6586 - accuracy: 0.7670 - val_loss: 2.0384 - val_accuracy: 0.4612\n",
      "Epoch 13/20\n",
      "469/469 [==============================] - 770s 2s/step - loss: 0.6044 - accuracy: 0.7859 - val_loss: 2.1263 - val_accuracy: 0.4583\n",
      "Epoch 14/20\n",
      "469/469 [==============================] - 12s 27ms/step - loss: 0.5554 - accuracy: 0.8050 - val_loss: 2.2598 - val_accuracy: 0.4555\n",
      "Epoch 15/20\n",
      "469/469 [==============================] - 14s 29ms/step - loss: 0.5125 - accuracy: 0.8201 - val_loss: 2.3605 - val_accuracy: 0.4604\n",
      "Epoch 16/20\n",
      "469/469 [==============================] - 9s 20ms/step - loss: 0.4802 - accuracy: 0.8328 - val_loss: 2.4889 - val_accuracy: 0.4495\n",
      "Epoch 17/20\n",
      "469/469 [==============================] - 10s 21ms/step - loss: 0.4524 - accuracy: 0.8433 - val_loss: 2.5190 - val_accuracy: 0.4526\n",
      "Epoch 18/20\n",
      "469/469 [==============================] - 10s 21ms/step - loss: 0.4273 - accuracy: 0.8537 - val_loss: 2.6199 - val_accuracy: 0.4496\n",
      "Epoch 19/20\n",
      "469/469 [==============================] - 10s 21ms/step - loss: 0.4034 - accuracy: 0.8631 - val_loss: 2.6518 - val_accuracy: 0.4455\n",
      "Epoch 20/20\n",
      "469/469 [==============================] - 9s 20ms/step - loss: 0.3879 - accuracy: 0.8680 - val_loss: 2.7092 - val_accuracy: 0.4478\n",
      "Epoch 1/20\n",
      "469/469 [==============================] - 15s 32ms/step - loss: 2.6332 - accuracy: 0.1123 - val_loss: 2.2806 - val_accuracy: 0.1203\n",
      "Epoch 2/20\n",
      "469/469 [==============================] - 16s 34ms/step - loss: 2.2624 - accuracy: 0.1509 - val_loss: 2.2436 - val_accuracy: 0.1657\n",
      "Epoch 3/20\n",
      "469/469 [==============================] - 14s 29ms/step - loss: 2.2153 - accuracy: 0.1842 - val_loss: 2.1929 - val_accuracy: 0.1983\n",
      "Epoch 4/20\n",
      "469/469 [==============================] - 13s 28ms/step - loss: 2.1627 - accuracy: 0.2090 - val_loss: 2.1689 - val_accuracy: 0.2085\n",
      "Epoch 5/20\n",
      "469/469 [==============================] - 12s 26ms/step - loss: 2.1138 - accuracy: 0.2282 - val_loss: 2.1585 - val_accuracy: 0.2172\n",
      "Epoch 6/20\n",
      "469/469 [==============================] - 13s 27ms/step - loss: 2.0622 - accuracy: 0.2510 - val_loss: 2.1606 - val_accuracy: 0.2229\n",
      "Epoch 7/20\n",
      "469/469 [==============================] - 13s 28ms/step - loss: 2.0078 - accuracy: 0.2703 - val_loss: 2.1675 - val_accuracy: 0.2237\n",
      "Epoch 8/20\n",
      "469/469 [==============================] - 13s 28ms/step - loss: 1.9434 - accuracy: 0.2930 - val_loss: 2.1854 - val_accuracy: 0.2254\n",
      "Epoch 9/20\n",
      "469/469 [==============================] - 12s 26ms/step - loss: 1.8821 - accuracy: 0.3144 - val_loss: 2.2100 - val_accuracy: 0.2209\n",
      "Epoch 10/20\n",
      "469/469 [==============================] - 12s 25ms/step - loss: 1.8047 - accuracy: 0.3399 - val_loss: 2.2518 - val_accuracy: 0.2213\n",
      "Epoch 11/20\n",
      "469/469 [==============================] - 12s 26ms/step - loss: 1.7339 - accuracy: 0.3625 - val_loss: 2.2912 - val_accuracy: 0.2198\n",
      "Epoch 12/20\n",
      "469/469 [==============================] - 13s 27ms/step - loss: 1.6750 - accuracy: 0.3840 - val_loss: 2.3308 - val_accuracy: 0.2239\n",
      "Epoch 13/20\n",
      "469/469 [==============================] - 13s 27ms/step - loss: 1.6051 - accuracy: 0.4085 - val_loss: 2.3978 - val_accuracy: 0.2215\n",
      "Epoch 14/20\n",
      "469/469 [==============================] - 12s 27ms/step - loss: 1.5463 - accuracy: 0.4286 - val_loss: 2.4298 - val_accuracy: 0.2184\n",
      "Epoch 15/20\n",
      "469/469 [==============================] - 12s 25ms/step - loss: 1.5017 - accuracy: 0.4459 - val_loss: 2.4685 - val_accuracy: 0.2191\n",
      "Epoch 16/20\n",
      "469/469 [==============================] - 12s 25ms/step - loss: 1.4424 - accuracy: 0.4660 - val_loss: 2.5814 - val_accuracy: 0.2213\n",
      "Epoch 17/20\n",
      "469/469 [==============================] - 11s 24ms/step - loss: 1.4076 - accuracy: 0.4824 - val_loss: 2.5767 - val_accuracy: 0.2180\n",
      "Epoch 18/20\n",
      "469/469 [==============================] - 11s 24ms/step - loss: 1.3636 - accuracy: 0.4985 - val_loss: 2.6519 - val_accuracy: 0.2208\n",
      "Epoch 19/20\n",
      "469/469 [==============================] - 12s 25ms/step - loss: 1.3176 - accuracy: 0.5145 - val_loss: 2.7180 - val_accuracy: 0.2188\n",
      "Epoch 20/20\n",
      "469/469 [==============================] - 13s 28ms/step - loss: 1.2872 - accuracy: 0.5273 - val_loss: 2.7432 - val_accuracy: 0.2259\n"
     ]
    }
   ],
   "source": [
    "accuracy_score = []\n",
    "noise_scale = [.1, .5, 1.0, 2.0, 4.0]\n",
    "\n",
    "#set for loop to see scores for each scale of noise\n",
    "for scale in noise_scale:\n",
    "    \n",
    "    noise_train = np.random.normal(0.5, scale, (60000, 784))\n",
    "    noise_test = np.random.normal(0.5, scale, (10000, 784))\n",
    "    x_train3 = x_train + noise_train\n",
    "    x_test3 = x_test + noise_test\n",
    "    \n",
    "    history3 = model.fit(x_train3, y_train,\n",
    "                    batch_size=batch_size,\n",
    "                    epochs=epochs,\n",
    "                    verbose=1,\n",
    "                    validation_data=(x_test3, y_test))\n",
    "    \n",
    "    score3 = model.evaluate(x_test3, y_test, verbose=0)\n",
    "    accuracy = score3[1]\n",
    "    accuracy_score.append(accuracy)"
   ]
  },
  {
   "cell_type": "code",
   "execution_count": 8,
   "metadata": {},
   "outputs": [
    {
     "name": "stdout",
     "output_type": "stream",
     "text": [
      "[0.9778000116348267, 0.9319999814033508, 0.7793999910354614, 0.44780001044273376, 0.22589999437332153]\n"
     ]
    }
   ],
   "source": [
    "print(accuracy_score)"
   ]
  },
  {
   "cell_type": "code",
   "execution_count": 9,
   "metadata": {},
   "outputs": [
    {
     "data": {
      "image/png": "[encoded data removed]",
      "text/plain": [
       "<Figure size 640x480 with 1 Axes>"
      ]
     },
     "metadata": {},
     "output_type": "display_data"
    }
   ],
   "source": [
    "plt.scatter(noise_scale, accuracy_score)\n",
    "plt.xlabel('Scale of Noise')\n",
    "plt.ylabel('Accuracy')\n",
    "plt.show()"
   ]
  },
  {
   "cell_type": "markdown",
   "metadata": {},
   "source": [
    "## Result: The accuracy significantly dropped as scale of noise increased"
   ]
  }
 ],
 "metadata": {
  "kernelspec": {
   "display_name": "Python 3 (ipykernel)",
   "language": "python",
   "name": "python3"
  },
  "language_info": {
   "codemirror_mode": {
    "name": "ipython",
    "version": 3
   },
   "file_extension": ".py",
   "mimetype": "text/x-python",
   "name": "python",
   "nbconvert_exporter": "python",
   "pygments_lexer": "ipython3",
   "version": "3.11.5"
  }
 },
 "nbformat": 4,
 "nbformat_minor": 2
}
